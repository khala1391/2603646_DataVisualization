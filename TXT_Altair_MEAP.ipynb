{
 "cells": [
  {
   "cell_type": "markdown",
   "id": "0ffdcf68-f603-40b3-b24c-2b22b80e7edc",
   "metadata": {
    "editable": true,
    "slideshow": {
     "slide_type": ""
    },
    "tags": []
   },
   "source": [
    "# 2603646_DataVisualization"
   ]
  },
  {
   "cell_type": "markdown",
   "id": "f92fafa4-1c7a-4172-9f6f-5b0a556e90a5",
   "metadata": {
    "editable": true,
    "slideshow": {
     "slide_type": ""
    },
    "tags": []
   },
   "source": [
    "---\n",
    "* Author:  [Yuttapong Mahasittiwat](mailto:khala1391@gmail.com)\n",
    "* Technologist | Data Modeler | Data Analyst\n",
    "* [YouTube](https://www.youtube.com/khala1391)\n",
    "* [LinkedIn](https://www.linkedin.com/in/yuttapong-m/)\n",
    "---"
   ]
  },
  {
   "cell_type": "markdown",
   "id": "e5fd8b3d-1780-40ea-a2d6-01a6d74a0a2e",
   "metadata": {},
   "source": [
    "Source: **Data Storytelling with Python Altair and Generative AI MEAP V02**"
   ]
  },
  {
   "cell_type": "code",
   "execution_count": 1,
   "id": "a4c16b62-c8ab-4fdd-bc70-4193a506bf3b",
   "metadata": {
    "colab": {
     "base_uri": "https://localhost:8080/"
    },
    "editable": true,
    "executionInfo": {
     "elapsed": 450,
     "status": "ok",
     "timestamp": 1722945524622,
     "user": {
      "displayName": "Buraj Patrakosol",
      "userId": "15915442625378365644"
     },
     "user_tz": -420
    },
    "id": "ob6u_X-NhT6T",
    "outputId": "8af79b74-2924-4afe-eb29-4cba74aaeb9d",
    "slideshow": {
     "slide_type": ""
    },
    "tags": []
   },
   "outputs": [
    {
     "name": "stdout",
     "output_type": "stream",
     "text": [
      "pandas version : 2.2.1\n",
      "numpy version : 1.26.4\n",
      "matplotlib version : 3.8.4\n",
      "seaborn version : 0.13.2\n",
      "altair version : 5.0.1\n"
     ]
    }
   ],
   "source": [
    "import pandas as pd\n",
    "import matplotlib as mpl\n",
    "import matplotlib.pyplot as plt\n",
    "import seaborn as sns\n",
    "import numpy as np\n",
    "import altair as alt\n",
    "print(\"pandas version :\",pd.__version__)\n",
    "print(\"numpy version :\",np.__version__)\n",
    "print(\"matplotlib version :\",mpl.__version__)\n",
    "print(\"seaborn version :\",sns.__version__)\n",
    "print(\"altair version :\",alt.__version__)"
   ]
  },
  {
   "cell_type": "code",
   "execution_count": 2,
   "id": "3fdc37e6-8e56-427b-bb9d-8e0fd693ef8c",
   "metadata": {},
   "outputs": [],
   "source": [
    "import warnings\n",
    "warnings.filterwarnings('ignore', category=FutureWarning, message=\"the convert_dtype parameter is deprecated\")"
   ]
  },
  {
   "cell_type": "code",
   "execution_count": 72,
   "id": "0fad1287-19dc-4282-a179-1825603c170b",
   "metadata": {},
   "outputs": [
    {
     "data": {
      "text/html": [
       "\n",
       "<style>\n",
       "  #altair-viz-a9c64ed405fd473381b7410cc25f76d5.vega-embed {\n",
       "    width: 100%;\n",
       "    display: flex;\n",
       "  }\n",
       "\n",
       "  #altair-viz-a9c64ed405fd473381b7410cc25f76d5.vega-embed details,\n",
       "  #altair-viz-a9c64ed405fd473381b7410cc25f76d5.vega-embed details summary {\n",
       "    position: relative;\n",
       "  }\n",
       "</style>\n",
       "<div id=\"altair-viz-a9c64ed405fd473381b7410cc25f76d5\"></div>\n",
       "<script type=\"text/javascript\">\n",
       "  var VEGA_DEBUG = (typeof VEGA_DEBUG == \"undefined\") ? {} : VEGA_DEBUG;\n",
       "  (function(spec, embedOpt){\n",
       "    let outputDiv = document.currentScript.previousElementSibling;\n",
       "    if (outputDiv.id !== \"altair-viz-a9c64ed405fd473381b7410cc25f76d5\") {\n",
       "      outputDiv = document.getElementById(\"altair-viz-a9c64ed405fd473381b7410cc25f76d5\");\n",
       "    }\n",
       "    const paths = {\n",
       "      \"vega\": \"https://cdn.jsdelivr.net/npm/vega@5?noext\",\n",
       "      \"vega-lib\": \"https://cdn.jsdelivr.net/npm/vega-lib?noext\",\n",
       "      \"vega-lite\": \"https://cdn.jsdelivr.net/npm/vega-lite@5.8.0?noext\",\n",
       "      \"vega-embed\": \"https://cdn.jsdelivr.net/npm/vega-embed@6?noext\",\n",
       "    };\n",
       "\n",
       "    function maybeLoadScript(lib, version) {\n",
       "      var key = `${lib.replace(\"-\", \"\")}_version`;\n",
       "      return (VEGA_DEBUG[key] == version) ?\n",
       "        Promise.resolve(paths[lib]) :\n",
       "        new Promise(function(resolve, reject) {\n",
       "          var s = document.createElement('script');\n",
       "          document.getElementsByTagName(\"head\")[0].appendChild(s);\n",
       "          s.async = true;\n",
       "          s.onload = () => {\n",
       "            VEGA_DEBUG[key] = version;\n",
       "            return resolve(paths[lib]);\n",
       "          };\n",
       "          s.onerror = () => reject(`Error loading script: ${paths[lib]}`);\n",
       "          s.src = paths[lib];\n",
       "        });\n",
       "    }\n",
       "\n",
       "    function showError(err) {\n",
       "      outputDiv.innerHTML = `<div class=\"error\" style=\"color:red;\">${err}</div>`;\n",
       "      throw err;\n",
       "    }\n",
       "\n",
       "    function displayChart(vegaEmbed) {\n",
       "      vegaEmbed(outputDiv, spec, embedOpt)\n",
       "        .catch(err => showError(`Javascript Error: ${err.message}<br>This usually means there's a typo in your chart specification. See the javascript console for the full traceback.`));\n",
       "    }\n",
       "\n",
       "    if(typeof define === \"function\" && define.amd) {\n",
       "      requirejs.config({paths});\n",
       "      require([\"vega-embed\"], displayChart, err => showError(`Error loading script: ${err.message}`));\n",
       "    } else {\n",
       "      maybeLoadScript(\"vega\", \"5\")\n",
       "        .then(() => maybeLoadScript(\"vega-lite\", \"5.8.0\"))\n",
       "        .then(() => maybeLoadScript(\"vega-embed\", \"6\"))\n",
       "        .catch(showError)\n",
       "        .then(() => displayChart(vegaEmbed));\n",
       "    }\n",
       "  })({\"config\": {\"view\": {\"continuousWidth\": 300, \"continuousHeight\": 300}}, \"data\": {\"name\": \"data-679b3cb888c979e4923127b2d96de8f9\"}, \"mark\": {\"type\": \"bar\"}, \"encoding\": {\"color\": {\"condition\": {\"test\": \"(datum.Region === 'Europe')\", \"value\": \"red\"}, \"value\": \"blue\"}, \"x\": {\"field\": \"Medals\", \"type\": \"quantitative\"}, \"y\": {\"field\": \"Country\", \"type\": \"nominal\"}}, \"$schema\": \"https://vega.github.io/schema/vega-lite/v5.8.0.json\", \"datasets\": {\"data-679b3cb888c979e4923127b2d96de8f9\": [{\"Country\": \"Japan\", \"Medals\": 4, \"Region\": \"Asia\"}, {\"Country\": \"USA\", \"Medals\": 6, \"Region\": \"Americas\"}, {\"Country\": \"Germany\", \"Medals\": 10, \"Region\": \"Europe\"}, {\"Country\": \"Spain\", \"Medals\": 3, \"Region\": \"Europe\"}, {\"Country\": \"France\", \"Medals\": 7, \"Region\": \"Europe\"}, {\"Country\": \"Italy\", \"Medals\": 8, \"Region\": \"Europe\"}]}}, {\"mode\": \"vega-lite\"});\n",
       "</script>"
      ],
      "text/plain": [
       "alt.Chart(...)"
      ]
     },
     "execution_count": 72,
     "metadata": {},
     "output_type": "execute_result"
    }
   ],
   "source": [
    "df = pd.DataFrame(\n",
    "{\"Country\": [\"Japan\", \"USA\", \"Germany\", \"Spain\", \"France\", \"Italy\"],\n",
    "\"Medals\": [4, 6, 10, 3, 7, 8],\n",
    "\"Region\":[\"Asia\",\"Americas\",\"Europe\",\"Europe\",\"Europe\",\"Europe\"]})\n",
    "chart = alt.Chart(df).mark_bar().encode(\n",
    "x='Medals',\n",
    "y='Country',\n",
    "color=alt.condition(\n",
    "alt.datum.Region == 'Europe',\n",
    "alt.value('red'), # color to use when condition is true\n",
    "alt.value('blue') # color to use when condition is false\n",
    ")\n",
    ") \n",
    "chart"
   ]
  },
  {
   "cell_type": "code",
   "execution_count": 101,
   "id": "98df258b-d28f-4619-bc96-27868a2c0cec",
   "metadata": {},
   "outputs": [
    {
     "data": {
      "text/html": [
       "\n",
       "<style>\n",
       "  #altair-viz-ff61dadf482240519b977fb40ee2c7e7.vega-embed {\n",
       "    width: 100%;\n",
       "    display: flex;\n",
       "  }\n",
       "\n",
       "  #altair-viz-ff61dadf482240519b977fb40ee2c7e7.vega-embed details,\n",
       "  #altair-viz-ff61dadf482240519b977fb40ee2c7e7.vega-embed details summary {\n",
       "    position: relative;\n",
       "  }\n",
       "</style>\n",
       "<div id=\"altair-viz-ff61dadf482240519b977fb40ee2c7e7\"></div>\n",
       "<script type=\"text/javascript\">\n",
       "  var VEGA_DEBUG = (typeof VEGA_DEBUG == \"undefined\") ? {} : VEGA_DEBUG;\n",
       "  (function(spec, embedOpt){\n",
       "    let outputDiv = document.currentScript.previousElementSibling;\n",
       "    if (outputDiv.id !== \"altair-viz-ff61dadf482240519b977fb40ee2c7e7\") {\n",
       "      outputDiv = document.getElementById(\"altair-viz-ff61dadf482240519b977fb40ee2c7e7\");\n",
       "    }\n",
       "    const paths = {\n",
       "      \"vega\": \"https://cdn.jsdelivr.net/npm/vega@5?noext\",\n",
       "      \"vega-lib\": \"https://cdn.jsdelivr.net/npm/vega-lib?noext\",\n",
       "      \"vega-lite\": \"https://cdn.jsdelivr.net/npm/vega-lite@5.8.0?noext\",\n",
       "      \"vega-embed\": \"https://cdn.jsdelivr.net/npm/vega-embed@6?noext\",\n",
       "    };\n",
       "\n",
       "    function maybeLoadScript(lib, version) {\n",
       "      var key = `${lib.replace(\"-\", \"\")}_version`;\n",
       "      return (VEGA_DEBUG[key] == version) ?\n",
       "        Promise.resolve(paths[lib]) :\n",
       "        new Promise(function(resolve, reject) {\n",
       "          var s = document.createElement('script');\n",
       "          document.getElementsByTagName(\"head\")[0].appendChild(s);\n",
       "          s.async = true;\n",
       "          s.onload = () => {\n",
       "            VEGA_DEBUG[key] = version;\n",
       "            return resolve(paths[lib]);\n",
       "          };\n",
       "          s.onerror = () => reject(`Error loading script: ${paths[lib]}`);\n",
       "          s.src = paths[lib];\n",
       "        });\n",
       "    }\n",
       "\n",
       "    function showError(err) {\n",
       "      outputDiv.innerHTML = `<div class=\"error\" style=\"color:red;\">${err}</div>`;\n",
       "      throw err;\n",
       "    }\n",
       "\n",
       "    function displayChart(vegaEmbed) {\n",
       "      vegaEmbed(outputDiv, spec, embedOpt)\n",
       "        .catch(err => showError(`Javascript Error: ${err.message}<br>This usually means there's a typo in your chart specification. See the javascript console for the full traceback.`));\n",
       "    }\n",
       "\n",
       "    if(typeof define === \"function\" && define.amd) {\n",
       "      requirejs.config({paths});\n",
       "      require([\"vega-embed\"], displayChart, err => showError(`Error loading script: ${err.message}`));\n",
       "    } else {\n",
       "      maybeLoadScript(\"vega\", \"5\")\n",
       "        .then(() => maybeLoadScript(\"vega-lite\", \"5.8.0\"))\n",
       "        .then(() => maybeLoadScript(\"vega-embed\", \"6\"))\n",
       "        .catch(showError)\n",
       "        .then(() => displayChart(vegaEmbed));\n",
       "    }\n",
       "  })({\"config\": {\"view\": {\"continuousWidth\": 300, \"continuousHeight\": 300}}, \"layer\": [{\"mark\": {\"type\": \"bar\", \"color\": \"#636466\"}, \"encoding\": {\"x\": {\"field\": \"Country\", \"type\": \"nominal\"}, \"y\": {\"field\": \"Medals\", \"type\": \"quantitative\"}}, \"title\": \"A bar chart\"}, {\"mark\": {\"type\": \"line\", \"color\": \"#80C11E\"}, \"encoding\": {\"x\": {\"field\": \"Country\", \"type\": \"nominal\"}, \"y\": {\"field\": \"Medals\", \"type\": \"quantitative\"}}, \"title\": \"A line chart\"}], \"data\": {\"name\": \"data-679b3cb888c979e4923127b2d96de8f9\"}, \"width\": 400, \"$schema\": \"https://vega.github.io/schema/vega-lite/v5.8.0.json\", \"datasets\": {\"data-679b3cb888c979e4923127b2d96de8f9\": [{\"Country\": \"Japan\", \"Medals\": 4, \"Region\": \"Asia\"}, {\"Country\": \"USA\", \"Medals\": 6, \"Region\": \"Americas\"}, {\"Country\": \"Germany\", \"Medals\": 10, \"Region\": \"Europe\"}, {\"Country\": \"Spain\", \"Medals\": 3, \"Region\": \"Europe\"}, {\"Country\": \"France\", \"Medals\": 7, \"Region\": \"Europe\"}, {\"Country\": \"Italy\", \"Medals\": 8, \"Region\": \"Europe\"}]}}, {\"mode\": \"vega-lite\"});\n",
       "</script>"
      ],
      "text/plain": [
       "alt.LayerChart(...)"
      ]
     },
     "execution_count": 101,
     "metadata": {},
     "output_type": "execute_result"
    }
   ],
   "source": [
    "df = pd.DataFrame(\n",
    "{\"Country\": [\"Japan\", \"USA\", \"Germany\", \"Spain\", \"France\", \"Italy\"],\n",
    "\"Medals\": [4, 6, 10, 3, 7, 8],\n",
    "\"Region\":[\"Asia\",\"Americas\",\"Europe\",\"Europe\",\"Europe\",\"Europe\"]})\n",
    "chart1 = alt.Chart(df).mark_bar(color='#636466').encode(\n",
    "x='Country',\n",
    "y='Medals'\n",
    ").properties(width=400, title='A bar chart')\n",
    "chart2 = alt.Chart(df).mark_line(color='#80C11E').encode(\n",
    "x='Country',\n",
    "y='Medals'\n",
    ").properties(width=400, title='A line chart')\n",
    "# chart1 | chart2\n",
    "alt.layer(chart1,chart2) "
   ]
  }
 ],
 "metadata": {
  "kernelspec": {
   "display_name": "Python 3 (ipykernel)",
   "language": "python",
   "name": "python3"
  },
  "language_info": {
   "codemirror_mode": {
    "name": "ipython",
    "version": 3
   },
   "file_extension": ".py",
   "mimetype": "text/x-python",
   "name": "python",
   "nbconvert_exporter": "python",
   "pygments_lexer": "ipython3",
   "version": "3.11.9"
  }
 },
 "nbformat": 4,
 "nbformat_minor": 5
}
