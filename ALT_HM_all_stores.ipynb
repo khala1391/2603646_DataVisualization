{
 "cells": [
  {
   "cell_type": "markdown",
   "id": "b9999c82-c0b8-4338-8a93-4a2d194962a8",
   "metadata": {
    "editable": true,
    "slideshow": {
     "slide_type": ""
    },
    "tags": []
   },
   "source": [
    "# 2603646_DataVisualization"
   ]
  },
  {
   "cell_type": "markdown",
   "id": "3c2b29c5-29ad-4b29-b45f-4abea021d9cf",
   "metadata": {
    "editable": true,
    "slideshow": {
     "slide_type": ""
    },
    "tags": []
   },
   "source": [
    "---\n",
    "* Author:  [Yuttapong Mahasittiwat](mailto:khala1391@gmail.com)\n",
    "* Technologist | Data Modeler | Data Analyst\n",
    "* [YouTube](https://www.youtube.com/khala1391)\n",
    "* [LinkedIn](https://www.linkedin.com/in/yuttapong-m/)\n",
    "---"
   ]
  },
  {
   "cell_type": "markdown",
   "id": "f99c4c27-7de9-4b23-a0ff-d3b743f98d7b",
   "metadata": {},
   "source": [
    "Source: [kaggle](https://www.kaggle.com/datasets/shivamb/hm-stores-dataset?select=HM_all_stores.csv)"
   ]
  },
  {
   "cell_type": "code",
   "execution_count": 4,
   "id": "eb5ba1ee-807d-4cf7-833c-93d8152bd382",
   "metadata": {
    "colab": {
     "base_uri": "https://localhost:8080/"
    },
    "editable": true,
    "executionInfo": {
     "elapsed": 450,
     "status": "ok",
     "timestamp": 1722945524622,
     "user": {
      "displayName": "Buraj Patrakosol",
      "userId": "15915442625378365644"
     },
     "user_tz": -420
    },
    "id": "ob6u_X-NhT6T",
    "outputId": "8af79b74-2924-4afe-eb29-4cba74aaeb9d",
    "slideshow": {
     "slide_type": ""
    },
    "tags": []
   },
   "outputs": [
    {
     "name": "stdout",
     "output_type": "stream",
     "text": [
      "pandas version : 2.2.1\n",
      "numpy version : 1.26.4\n",
      "matplotlib version : 3.8.4\n",
      "seaborn version : 0.13.2\n",
      "altair version : 5.4.0\n"
     ]
    }
   ],
   "source": [
    "import pandas as pd\n",
    "import matplotlib as mpl\n",
    "import matplotlib.pyplot as plt\n",
    "import seaborn as sns\n",
    "import numpy as np\n",
    "import altair as alt\n",
    "print(\"pandas version :\",pd.__version__)\n",
    "print(\"numpy version :\",np.__version__)\n",
    "print(\"matplotlib version :\",mpl.__version__)\n",
    "print(\"seaborn version :\",sns.__version__)\n",
    "print(\"altair version :\",alt.__version__)"
   ]
  },
  {
   "cell_type": "code",
   "execution_count": 5,
   "id": "4eae02a1-0927-47d0-aa4d-c5c7a6714a02",
   "metadata": {},
   "outputs": [],
   "source": [
    "import pandas as pd\n",
    "import altair as alt"
   ]
  },
  {
   "cell_type": "code",
   "execution_count": 6,
   "id": "59c100fa-39ce-471b-9f06-04785bff867b",
   "metadata": {},
   "outputs": [
    {
     "name": "stdout",
     "output_type": "stream",
     "text": [
      "<class 'pandas.core.frame.DataFrame'>\n",
      "RangeIndex: 4292 entries, 0 to 4291\n",
      "Data columns (total 21 columns):\n",
      " #   Column          Non-Null Count  Dtype  \n",
      "---  ------          --------------  -----  \n",
      " 0   storeCode       4292 non-null   object \n",
      " 1   storeClass      4289 non-null   object \n",
      " 2   name            4290 non-null   object \n",
      " 3   phone           4140 non-null   object \n",
      " 4   city            4292 non-null   object \n",
      " 5   country         4292 non-null   object \n",
      " 6   countryCode     4292 non-null   object \n",
      " 7   longitude       4292 non-null   float64\n",
      " 8   latitude        4292 non-null   float64\n",
      " 9   timeZoneIndex   4289 non-null   float64\n",
      " 10  Mon_open_hours  4258 non-null   object \n",
      " 11  Tue_open_hours  4258 non-null   object \n",
      " 12  Wed_open_hours  4258 non-null   object \n",
      " 13  Thu_open_hours  4258 non-null   object \n",
      " 14  Fri_open_hours  4258 non-null   object \n",
      " 15  Sat_open_hours  4258 non-null   object \n",
      " 16  Sun_open_hours  3148 non-null   object \n",
      " 17  streetName1     4292 non-null   object \n",
      " 18  streetName2     1827 non-null   object \n",
      " 19  state           2431 non-null   object \n",
      " 20  address_string  4292 non-null   object \n",
      "dtypes: float64(3), object(18)\n",
      "memory usage: 704.3+ KB\n"
     ]
    }
   ],
   "source": [
    "df = pd.read_csv('data/HM_all_stores.csv',\n",
    "                 # usecols=['Brand', 'Sector', '21BV', '20BV', '19BV', '18BV', '17BV', '16BV']\n",
    "                )\n",
    "df.info()"
   ]
  },
  {
   "cell_type": "code",
   "execution_count": null,
   "id": "928bcd64-ff6f-4e87-ab5e-9ad157f9dd17",
   "metadata": {},
   "outputs": [],
   "source": []
  },
  {
   "cell_type": "code",
   "execution_count": null,
   "id": "1fbc9464-9106-4cf0-b9b3-863bb8d41ff5",
   "metadata": {},
   "outputs": [],
   "source": []
  }
 ],
 "metadata": {
  "kernelspec": {
   "display_name": "Python 3 (ipykernel)",
   "language": "python",
   "name": "python3"
  },
  "language_info": {
   "codemirror_mode": {
    "name": "ipython",
    "version": 3
   },
   "file_extension": ".py",
   "mimetype": "text/x-python",
   "name": "python",
   "nbconvert_exporter": "python",
   "pygments_lexer": "ipython3",
   "version": "3.11.9"
  }
 },
 "nbformat": 4,
 "nbformat_minor": 5
}
