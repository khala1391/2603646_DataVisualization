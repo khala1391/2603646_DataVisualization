{
 "cells": [
  {
   "cell_type": "markdown",
   "id": "1b703830-d1a4-4156-969b-c503b1beb5e5",
   "metadata": {
    "editable": true,
    "slideshow": {
     "slide_type": ""
    },
    "tags": []
   },
   "source": [
    "# 2603646_DataVisualization"
   ]
  },
  {
   "cell_type": "markdown",
   "id": "27891440-a2b7-4140-bb69-75c6eff988e1",
   "metadata": {
    "editable": true,
    "slideshow": {
     "slide_type": ""
    },
    "tags": []
   },
   "source": [
    "---\n",
    "* Author:  [Yuttapong Mahasittiwat](mailto:khala1391@gmail.com)\n",
    "* Technologist | Data Modeler | Data Analyst\n",
    "* [YouTube](https://www.youtube.com/khala1391)\n",
    "* [LinkedIn](https://www.linkedin.com/in/yuttapong-m/)\n",
    "---"
   ]
  },
  {
   "cell_type": "markdown",
   "id": "e4435bd4-65b7-48ae-a8f5-5519a75fec0f",
   "metadata": {},
   "source": [
    "Source: [kaggle](https://www.kaggle.com/datasets/sennyben/brand-value-for-top-50-companies-from-16-21)"
   ]
  },
  {
   "cell_type": "code",
   "execution_count": 7,
   "id": "1b8e050f-c66e-4f10-bb60-51f492ed5eb4",
   "metadata": {
    "colab": {
     "base_uri": "https://localhost:8080/"
    },
    "editable": true,
    "executionInfo": {
     "elapsed": 450,
     "status": "ok",
     "timestamp": 1722945524622,
     "user": {
      "displayName": "Buraj Patrakosol",
      "userId": "15915442625378365644"
     },
     "user_tz": -420
    },
    "id": "ob6u_X-NhT6T",
    "outputId": "8af79b74-2924-4afe-eb29-4cba74aaeb9d",
    "slideshow": {
     "slide_type": ""
    },
    "tags": []
   },
   "outputs": [
    {
     "name": "stdout",
     "output_type": "stream",
     "text": [
      "pandas version : 2.2.1\n",
      "numpy version : 1.26.4\n",
      "matplotlib version : 3.8.4\n",
      "seaborn version : 0.13.2\n",
      "altair version : 5.4.0\n"
     ]
    }
   ],
   "source": [
    "import pandas as pd\n",
    "import matplotlib as mpl\n",
    "import matplotlib.pyplot as plt\n",
    "import seaborn as sns\n",
    "import numpy as np\n",
    "import altair as alt\n",
    "print(\"pandas version :\",pd.__version__)\n",
    "print(\"numpy version :\",np.__version__)\n",
    "print(\"matplotlib version :\",mpl.__version__)\n",
    "print(\"seaborn version :\",sns.__version__)\n",
    "print(\"altair version :\",alt.__version__)"
   ]
  },
  {
   "cell_type": "code",
   "execution_count": 9,
   "id": "c7e81fca-8a96-4c2f-8382-c98dec191b30",
   "metadata": {},
   "outputs": [],
   "source": [
    "import pandas as pd\n",
    "import altair as alt"
   ]
  },
  {
   "cell_type": "code",
   "execution_count": 230,
   "id": "f4aca1ab-7285-44e7-8365-48e6d999a8bc",
   "metadata": {},
   "outputs": [
    {
     "name": "stdout",
     "output_type": "stream",
     "text": [
      "<class 'pandas.core.frame.DataFrame'>\n",
      "RangeIndex: 43 entries, 0 to 42\n",
      "Data columns (total 8 columns):\n",
      " #   Column  Non-Null Count  Dtype  \n",
      "---  ------  --------------  -----  \n",
      " 0   Brand   43 non-null     object \n",
      " 1   Sector  43 non-null     object \n",
      " 2   21BV    43 non-null     float64\n",
      " 3   20BV    43 non-null     float64\n",
      " 4   19BV    43 non-null     float64\n",
      " 5   18BV    43 non-null     float64\n",
      " 6   17BV    43 non-null     float64\n",
      " 7   16BV    43 non-null     float64\n",
      "dtypes: float64(6), object(2)\n",
      "memory usage: 2.8+ KB\n"
     ]
    }
   ],
   "source": [
    "df = pd.read_csv('data/brand_value_16_21.csv',\n",
    "                 usecols=['Brand', 'Sector', '21BV', '20BV', '19BV', '18BV', '17BV', '16BV'])\n",
    "df.info()"
   ]
  },
  {
   "cell_type": "code",
   "execution_count": 232,
   "id": "4524f3e8-3109-4427-aa23-af58c282b8ba",
   "metadata": {},
   "outputs": [
    {
     "data": {
      "text/html": [
       "<div>\n",
       "<style scoped>\n",
       "    .dataframe tbody tr th:only-of-type {\n",
       "        vertical-align: middle;\n",
       "    }\n",
       "\n",
       "    .dataframe tbody tr th {\n",
       "        vertical-align: top;\n",
       "    }\n",
       "\n",
       "    .dataframe thead th {\n",
       "        text-align: right;\n",
       "    }\n",
       "</style>\n",
       "<table border=\"1\" class=\"dataframe\">\n",
       "  <thead>\n",
       "    <tr style=\"text-align: right;\">\n",
       "      <th></th>\n",
       "      <th>Brand</th>\n",
       "      <th>Sector</th>\n",
       "      <th>21BV</th>\n",
       "      <th>20BV</th>\n",
       "      <th>19BV</th>\n",
       "      <th>18BV</th>\n",
       "      <th>17BV</th>\n",
       "      <th>16BV</th>\n",
       "    </tr>\n",
       "  </thead>\n",
       "  <tbody>\n",
       "    <tr>\n",
       "      <th>0</th>\n",
       "      <td>accenture</td>\n",
       "      <td>IT Services</td>\n",
       "      <td>4.415441</td>\n",
       "      <td>4.403018</td>\n",
       "      <td>4.419824</td>\n",
       "      <td>4.225439</td>\n",
       "      <td>4.242144</td>\n",
       "      <td>4.103359</td>\n",
       "    </tr>\n",
       "    <tr>\n",
       "      <th>1</th>\n",
       "      <td>Amazon</td>\n",
       "      <td>Retail</td>\n",
       "      <td>5.405155</td>\n",
       "      <td>5.343981</td>\n",
       "      <td>5.273938</td>\n",
       "      <td>5.178433</td>\n",
       "      <td>5.026925</td>\n",
       "      <td>4.842871</td>\n",
       "    </tr>\n",
       "    <tr>\n",
       "      <th>2</th>\n",
       "      <td>Apple</td>\n",
       "      <td>Tech</td>\n",
       "      <td>5.420575</td>\n",
       "      <td>5.147751</td>\n",
       "      <td>5.186487</td>\n",
       "      <td>5.165277</td>\n",
       "      <td>5.029956</td>\n",
       "      <td>5.164109</td>\n",
       "    </tr>\n",
       "    <tr>\n",
       "      <th>3</th>\n",
       "      <td>AT&amp;T</td>\n",
       "      <td>Telecoms</td>\n",
       "      <td>4.710726</td>\n",
       "      <td>4.771610</td>\n",
       "      <td>4.939544</td>\n",
       "      <td>4.916043</td>\n",
       "      <td>4.939599</td>\n",
       "      <td>4.777456</td>\n",
       "    </tr>\n",
       "    <tr>\n",
       "      <th>4</th>\n",
       "      <td>Bank of America</td>\n",
       "      <td>Banking</td>\n",
       "      <td>4.515702</td>\n",
       "      <td>4.548525</td>\n",
       "      <td>4.564512</td>\n",
       "      <td>4.522301</td>\n",
       "      <td>4.481055</td>\n",
       "      <td>4.430204</td>\n",
       "    </tr>\n",
       "  </tbody>\n",
       "</table>\n",
       "</div>"
      ],
      "text/plain": [
       "             Brand       Sector      21BV      20BV      19BV      18BV  \\\n",
       "0        accenture  IT Services  4.415441  4.403018  4.419824  4.225439   \n",
       "1           Amazon       Retail  5.405155  5.343981  5.273938  5.178433   \n",
       "2            Apple         Tech  5.420575  5.147751  5.186487  5.165277   \n",
       "3             AT&T     Telecoms  4.710726  4.771610  4.939544  4.916043   \n",
       "4  Bank of America      Banking  4.515702  4.548525  4.564512  4.522301   \n",
       "\n",
       "       17BV      16BV  \n",
       "0  4.242144  4.103359  \n",
       "1  5.026925  4.842871  \n",
       "2  5.029956  5.164109  \n",
       "3  4.939599  4.777456  \n",
       "4  4.481055  4.430204  "
      ]
     },
     "execution_count": 232,
     "metadata": {},
     "output_type": "execute_result"
    }
   ],
   "source": [
    "df.head()"
   ]
  },
  {
   "cell_type": "code",
   "execution_count": 234,
   "id": "f028b060-71ab-4cd6-8371-284d9629c637",
   "metadata": {},
   "outputs": [
    {
     "data": {
      "text/plain": [
       "Index(['Brand', 'Sector', '21BV', '20BV', '19BV', '18BV', '17BV', '16BV'], dtype='object')"
      ]
     },
     "execution_count": 234,
     "metadata": {},
     "output_type": "execute_result"
    }
   ],
   "source": [
    "df.columns"
   ]
  },
  {
   "cell_type": "code",
   "execution_count": 236,
   "id": "87575570-5f10-4a62-8978-6b799e2df5d0",
   "metadata": {},
   "outputs": [],
   "source": [
    "df = df.melt(id_vars=['Brand', 'Sector'],\n",
    "        value_vars=['21BV', '20BV', '19BV', '18BV', '17BV', '16BV'],\n",
    "        var_name='Year',value_name='BrandValue')\n",
    "df['Year'] = df['Year'].str.extract(r'(\\d+)').apply(lambda x: '20'+ x).astype('int32')"
   ]
  },
  {
   "cell_type": "code",
   "execution_count": 238,
   "id": "9cdfd1f8-bac6-40e0-9d48-5b23a9e9a9ff",
   "metadata": {},
   "outputs": [
    {
     "name": "stdout",
     "output_type": "stream",
     "text": [
      "<class 'pandas.core.frame.DataFrame'>\n",
      "RangeIndex: 258 entries, 0 to 257\n",
      "Data columns (total 4 columns):\n",
      " #   Column      Non-Null Count  Dtype  \n",
      "---  ------      --------------  -----  \n",
      " 0   Brand       258 non-null    object \n",
      " 1   Sector      258 non-null    object \n",
      " 2   Year        258 non-null    int32  \n",
      " 3   BrandValue  258 non-null    float64\n",
      "dtypes: float64(1), int32(1), object(2)\n",
      "memory usage: 7.2+ KB\n"
     ]
    }
   ],
   "source": [
    "df.info()"
   ]
  },
  {
   "cell_type": "code",
   "execution_count": 240,
   "id": "00034bbe-3d58-4df8-881d-ba5b9a694178",
   "metadata": {},
   "outputs": [
    {
     "data": {
      "text/html": [
       "<div>\n",
       "<style scoped>\n",
       "    .dataframe tbody tr th:only-of-type {\n",
       "        vertical-align: middle;\n",
       "    }\n",
       "\n",
       "    .dataframe tbody tr th {\n",
       "        vertical-align: top;\n",
       "    }\n",
       "\n",
       "    .dataframe thead th {\n",
       "        text-align: right;\n",
       "    }\n",
       "</style>\n",
       "<table border=\"1\" class=\"dataframe\">\n",
       "  <thead>\n",
       "    <tr style=\"text-align: right;\">\n",
       "      <th></th>\n",
       "      <th>Brand</th>\n",
       "      <th>Sector</th>\n",
       "      <th>Year</th>\n",
       "      <th>BrandValue</th>\n",
       "    </tr>\n",
       "  </thead>\n",
       "  <tbody>\n",
       "    <tr>\n",
       "      <th>0</th>\n",
       "      <td>accenture</td>\n",
       "      <td>IT Services</td>\n",
       "      <td>2021</td>\n",
       "      <td>4.415441</td>\n",
       "    </tr>\n",
       "    <tr>\n",
       "      <th>1</th>\n",
       "      <td>Amazon</td>\n",
       "      <td>Retail</td>\n",
       "      <td>2021</td>\n",
       "      <td>5.405155</td>\n",
       "    </tr>\n",
       "    <tr>\n",
       "      <th>2</th>\n",
       "      <td>Apple</td>\n",
       "      <td>Tech</td>\n",
       "      <td>2021</td>\n",
       "      <td>5.420575</td>\n",
       "    </tr>\n",
       "    <tr>\n",
       "      <th>3</th>\n",
       "      <td>AT&amp;T</td>\n",
       "      <td>Telecoms</td>\n",
       "      <td>2021</td>\n",
       "      <td>4.710726</td>\n",
       "    </tr>\n",
       "    <tr>\n",
       "      <th>4</th>\n",
       "      <td>Bank of America</td>\n",
       "      <td>Banking</td>\n",
       "      <td>2021</td>\n",
       "      <td>4.515702</td>\n",
       "    </tr>\n",
       "  </tbody>\n",
       "</table>\n",
       "</div>"
      ],
      "text/plain": [
       "             Brand       Sector  Year  BrandValue\n",
       "0        accenture  IT Services  2021    4.415441\n",
       "1           Amazon       Retail  2021    5.405155\n",
       "2            Apple         Tech  2021    5.420575\n",
       "3             AT&T     Telecoms  2021    4.710726\n",
       "4  Bank of America      Banking  2021    4.515702"
      ]
     },
     "execution_count": 240,
     "metadata": {},
     "output_type": "execute_result"
    }
   ],
   "source": [
    "df.head()"
   ]
  },
  {
   "cell_type": "code",
   "execution_count": 242,
   "id": "4bf1e5bc-9ced-45b9-b0ba-bafe61c6d5e3",
   "metadata": {},
   "outputs": [
    {
     "data": {
      "text/html": [
       "\n",
       "<style>\n",
       "  #altair-viz-4041bd6ed68f4280bc31a36dcee5fcc7.vega-embed {\n",
       "    width: 100%;\n",
       "    display: flex;\n",
       "  }\n",
       "\n",
       "  #altair-viz-4041bd6ed68f4280bc31a36dcee5fcc7.vega-embed details,\n",
       "  #altair-viz-4041bd6ed68f4280bc31a36dcee5fcc7.vega-embed details summary {\n",
       "    position: relative;\n",
       "  }\n",
       "</style>\n",
       "<div id=\"altair-viz-4041bd6ed68f4280bc31a36dcee5fcc7\"></div>\n",
       "<script type=\"text/javascript\">\n",
       "  var VEGA_DEBUG = (typeof VEGA_DEBUG == \"undefined\") ? {} : VEGA_DEBUG;\n",
       "  (function(spec, embedOpt){\n",
       "    let outputDiv = document.currentScript.previousElementSibling;\n",
       "    if (outputDiv.id !== \"altair-viz-4041bd6ed68f4280bc31a36dcee5fcc7\") {\n",
       "      outputDiv = document.getElementById(\"altair-viz-4041bd6ed68f4280bc31a36dcee5fcc7\");\n",
       "    }\n",
       "    const paths = {\n",
       "      \"vega\": \"https://cdn.jsdelivr.net/npm/vega@5?noext\",\n",
       "      \"vega-lib\": \"https://cdn.jsdelivr.net/npm/vega-lib?noext\",\n",
       "      \"vega-lite\": \"https://cdn.jsdelivr.net/npm/vega-lite@5.20.1?noext\",\n",
       "      \"vega-embed\": \"https://cdn.jsdelivr.net/npm/vega-embed@6?noext\",\n",
       "    };\n",
       "\n",
       "    function maybeLoadScript(lib, version) {\n",
       "      var key = `${lib.replace(\"-\", \"\")}_version`;\n",
       "      return (VEGA_DEBUG[key] == version) ?\n",
       "        Promise.resolve(paths[lib]) :\n",
       "        new Promise(function(resolve, reject) {\n",
       "          var s = document.createElement('script');\n",
       "          document.getElementsByTagName(\"head\")[0].appendChild(s);\n",
       "          s.async = true;\n",
       "          s.onload = () => {\n",
       "            VEGA_DEBUG[key] = version;\n",
       "            return resolve(paths[lib]);\n",
       "          };\n",
       "          s.onerror = () => reject(`Error loading script: ${paths[lib]}`);\n",
       "          s.src = paths[lib];\n",
       "        });\n",
       "    }\n",
       "\n",
       "    function showError(err) {\n",
       "      outputDiv.innerHTML = `<div class=\"error\" style=\"color:red;\">${err}</div>`;\n",
       "      throw err;\n",
       "    }\n",
       "\n",
       "    function displayChart(vegaEmbed) {\n",
       "      vegaEmbed(outputDiv, spec, embedOpt)\n",
       "        .catch(err => showError(`Javascript Error: ${err.message}<br>This usually means there's a typo in your chart specification. See the javascript console for the full traceback.`));\n",
       "    }\n",
       "\n",
       "    if(typeof define === \"function\" && define.amd) {\n",
       "      requirejs.config({paths});\n",
       "      require([\"vega-embed\"], displayChart, err => showError(`Error loading script: ${err.message}`));\n",
       "    } else {\n",
       "      maybeLoadScript(\"vega\", \"5\")\n",
       "        .then(() => maybeLoadScript(\"vega-lite\", \"5.20.1\"))\n",
       "        .then(() => maybeLoadScript(\"vega-embed\", \"6\"))\n",
       "        .catch(showError)\n",
       "        .then(() => displayChart(vegaEmbed));\n",
       "    }\n",
       "  })({\"config\": {\"view\": {\"continuousWidth\": 300, \"continuousHeight\": 300}}, \"data\": {\"name\": \"data-2706b314920a58e4a85904afd4e53f52\"}, \"mark\": {\"type\": \"circle\"}, \"encoding\": {\"color\": {\"field\": \"Year\", \"type\": \"ordinal\"}, \"x\": {\"field\": \"BrandValue\", \"type\": \"quantitative\"}, \"y\": {\"axis\": {\"title\": null}, \"field\": \"Brand\", \"type\": \"nominal\"}}, \"$schema\": \"https://vega.github.io/schema/vega-lite/v5.20.1.json\", \"datasets\": {\"data-2706b314920a58e4a85904afd4e53f52\": [{\"Brand\": \"accenture\", \"Sector\": \"IT Services\", \"Year\": 2021, \"BrandValue\": 4.415441}, {\"Brand\": \"Amazon\", \"Sector\": \"Retail\", \"Year\": 2021, \"BrandValue\": 5.405155}, {\"Brand\": \"Apple\", \"Sector\": \"Tech\", \"Year\": 2021, \"BrandValue\": 5.420575}, {\"Brand\": \"AT&T\", \"Sector\": \"Telecoms\", \"Year\": 2021, \"BrandValue\": 4.710726}, {\"Brand\": \"Bank of America\", \"Sector\": \"Banking\", \"Year\": 2021, \"BrandValue\": 4.515702}, {\"Brand\": \"Chase\", \"Sector\": \"Banking\", \"Year\": 2021, \"BrandValue\": 4.460131}, {\"Brand\": \"Cisco\", \"Sector\": \"Tech\", \"Year\": 2021, \"BrandValue\": 4.303671}, {\"Brand\": \"Citi\", \"Sector\": \"Banking\", \"Year\": 2021, \"BrandValue\": 4.507856}, {\"Brand\": \"Coca-Cola\", \"Sector\": \"Non Alcoholic Drinks\", \"Year\": 2021, \"BrandValue\": 4.520693}, {\"Brand\": \"Costco\", \"Sector\": \"Retail\", \"Year\": 2021, \"BrandValue\": 4.460717}, {\"Brand\": \"CVS\", \"Sector\": \"Retail\", \"Year\": 2021, \"BrandValue\": 4.43043}, {\"Brand\": \"Dell\", \"Sector\": \"Tech\", \"Year\": 2021, \"BrandValue\": 4.265455}, {\"Brand\": \"Deloitte\", \"Sector\": \"Commercial Services\", \"Year\": 2021, \"BrandValue\": 4.425893}, {\"Brand\": \"Facebook\", \"Sector\": \"Media\", \"Year\": 2021, \"BrandValue\": 4.91103}, {\"Brand\": \"FedEx\", \"Sector\": \"Logistics\", \"Year\": 2021, \"BrandValue\": 4.371788}, {\"Brand\": \"Ford\", \"Sector\": \"Automobiles\", \"Year\": 2021, \"BrandValue\": 4.355566}, {\"Brand\": \"General Electric\", \"Sector\": \"Engineering & Construction\", \"Year\": 2021, \"BrandValue\": 4.255948}, {\"Brand\": \"Google\", \"Sector\": \"Tech\", \"Year\": 2021, \"BrandValue\": 5.281522}, {\"Brand\": \"Home Depot\", \"Sector\": \"Retail\", \"Year\": 2021, \"BrandValue\": 4.723595}, {\"Brand\": \"IBM\", \"Sector\": \"Tech\", \"Year\": 2021, \"BrandValue\": 4.438194}, {\"Brand\": \"Intel\", \"Sector\": \"Tech\", \"Year\": 2021, \"BrandValue\": 4.502659}, {\"Brand\": \"JP Morgan\", \"Sector\": \"Banking\", \"Year\": 2021, \"BrandValue\": 4.372267}, {\"Brand\": \"Lowe's\", \"Sector\": \"Retail\", \"Year\": 2021, \"BrandValue\": 4.482531}, {\"Brand\": \"Mastercard\", \"Sector\": \"Commercial Services\", \"Year\": 2021, \"BrandValue\": 4.28142}, {\"Brand\": \"Microsoft\", \"Sector\": \"Tech\", \"Year\": 2021, \"BrandValue\": 5.147475}, {\"Brand\": \"Netflix\", \"Sector\": \"Media\", \"Year\": 2021, \"BrandValue\": 4.396949}, {\"Brand\": \"Nike\", \"Sector\": \"Apparel\", \"Year\": 2021, \"BrandValue\": 4.483487}, {\"Brand\": \"Oracle\", \"Sector\": \"Tech\", \"Year\": 2021, \"BrandValue\": 4.417588}, {\"Brand\": \"PayPal\", \"Sector\": \"Commercial Services\", \"Year\": 2021, \"BrandValue\": 4.214897}, {\"Brand\": \"Pepsi\", \"Sector\": \"Non Alcoholic Drinks\", \"Year\": 2021, \"BrandValue\": 4.263991}, {\"Brand\": \"PWC\", \"Sector\": \"Commercial Services\", \"Year\": 2021, \"BrandValue\": 4.346979}, {\"Brand\": \"Starbucks\", \"Sector\": \"Restaurants\", \"Year\": 2021, \"BrandValue\": 4.584783}, {\"Brand\": \"Target\", \"Sector\": \"Retail\", \"Year\": 2021, \"BrandValue\": 4.315656}, {\"Brand\": \"Uber\", \"Sector\": \"Logistics\", \"Year\": 2021, \"BrandValue\": 4.311288}, {\"Brand\": \"UnitedHealthcare\", \"Sector\": \"Healthcare\", \"Year\": 2021, \"BrandValue\": 4.43629}, {\"Brand\": \"UPS\", \"Sector\": \"Logistics\", \"Year\": 2021, \"BrandValue\": 4.477931}, {\"Brand\": \"Verizon\", \"Sector\": \"Telecoms\", \"Year\": 2021, \"BrandValue\": 4.838156}, {\"Brand\": \"VISA\", \"Sector\": \"Commercial Services\", \"Year\": 2021, \"BrandValue\": 4.423377}, {\"Brand\": \"Walgreens\", \"Sector\": \"Retail\", \"Year\": 2021, \"BrandValue\": 4.206745}, {\"Brand\": \"Walmart\", \"Sector\": \"Retail\", \"Year\": 2021, \"BrandValue\": 4.969346}, {\"Brand\": \"Wells Fargo\", \"Sector\": \"Banking\", \"Year\": 2021, \"BrandValue\": 4.502495}, {\"Brand\": \"Xfinity\", \"Sector\": \"Telecoms\", \"Year\": 2021, \"BrandValue\": 4.401866}, {\"Brand\": \"YouTube\", \"Sector\": \"Media\", \"Year\": 2021, \"BrandValue\": 4.237695}, {\"Brand\": \"accenture\", \"Sector\": \"IT Services\", \"Year\": 2020, \"BrandValue\": 4.403018}, {\"Brand\": \"Amazon\", \"Sector\": \"Retail\", \"Year\": 2020, \"BrandValue\": 5.343981}, {\"Brand\": \"Apple\", \"Sector\": \"Tech\", \"Year\": 2020, \"BrandValue\": 5.147751}, {\"Brand\": \"AT&T\", \"Sector\": \"Telecoms\", \"Year\": 2020, \"BrandValue\": 4.77161}, {\"Brand\": \"Bank of America\", \"Sector\": \"Banking\", \"Year\": 2020, \"BrandValue\": 4.548525}, {\"Brand\": \"Chase\", \"Sector\": \"Banking\", \"Year\": 2020, \"BrandValue\": 4.49485}, {\"Brand\": \"Cisco\", \"Sector\": \"Tech\", \"Year\": 2020, \"BrandValue\": 4.367766}, {\"Brand\": \"Citi\", \"Sector\": \"Banking\", \"Year\": 2020, \"BrandValue\": 4.520235}, {\"Brand\": \"Coca-Cola\", \"Sector\": \"Non Alcoholic Drinks\", \"Year\": 2020, \"BrandValue\": 4.57904}, {\"Brand\": \"Costco\", \"Sector\": \"Retail\", \"Year\": 2020, \"BrandValue\": 4.354185}, {\"Brand\": \"CVS\", \"Sector\": \"Retail\", \"Year\": 2020, \"BrandValue\": 4.365151}, {\"Brand\": \"Dell\", \"Sector\": \"Tech\", \"Year\": 2020, \"BrandValue\": 4.246252}, {\"Brand\": \"Deloitte\", \"Sector\": \"Commercial Services\", \"Year\": 2020, \"BrandValue\": 4.511496}, {\"Brand\": \"Facebook\", \"Sector\": \"Media\", \"Year\": 2020, \"BrandValue\": 4.902025}, {\"Brand\": \"FedEx\", \"Sector\": \"Logistics\", \"Year\": 2020, \"BrandValue\": 4.361539}, {\"Brand\": \"Ford\", \"Sector\": \"Automobiles\", \"Year\": 2020, \"BrandValue\": 4.267524}, {\"Brand\": \"General Electric\", \"Sector\": \"Engineering & Construction\", \"Year\": 2020, \"BrandValue\": 4.383905}, {\"Brand\": \"Google\", \"Sector\": \"Tech\", \"Year\": 2020, \"BrandValue\": 5.275339}, {\"Brand\": \"Home Depot\", \"Sector\": \"Retail\", \"Year\": 2020, \"BrandValue\": 4.70336}, {\"Brand\": \"IBM\", \"Sector\": \"Tech\", \"Year\": 2020, \"BrandValue\": 4.5232}, {\"Brand\": \"Intel\", \"Sector\": \"Tech\", \"Year\": 2020, \"BrandValue\": 4.439443}, {\"Brand\": \"JP Morgan\", \"Sector\": \"Banking\", \"Year\": 2020, \"BrandValue\": 4.35843}, {\"Brand\": \"Lowe's\", \"Sector\": \"Retail\", \"Year\": 2020, \"BrandValue\": 4.393698}, {\"Brand\": \"Mastercard\", \"Sector\": \"Commercial Services\", \"Year\": 2020, \"BrandValue\": 4.297498}, {\"Brand\": \"Microsoft\", \"Sector\": \"Tech\", \"Year\": 2020, \"BrandValue\": 5.068453}, {\"Brand\": \"Netflix\", \"Sector\": \"Media\", \"Year\": 2020, \"BrandValue\": 4.360688}, {\"Brand\": \"Nike\", \"Sector\": \"Apparel\", \"Year\": 2020, \"BrandValue\": 4.541479}, {\"Brand\": \"Oracle\", \"Sector\": \"Tech\", \"Year\": 2020, \"BrandValue\": 4.372728}, {\"Brand\": \"PayPal\", \"Sector\": \"Commercial Services\", \"Year\": 2020, \"BrandValue\": 4.198602}, {\"Brand\": \"Pepsi\", \"Sector\": \"Non Alcoholic Drinks\", \"Year\": 2020, \"BrandValue\": 4.276967}, {\"Brand\": \"PWC\", \"Sector\": \"Commercial Services\", \"Year\": 2020, \"BrandValue\": 4.394592}, {\"Brand\": \"Starbucks\", \"Sector\": \"Restaurants\", \"Year\": 2020, \"BrandValue\": 4.613239}, {\"Brand\": \"Target\", \"Sector\": \"Retail\", \"Year\": 2020, \"BrandValue\": 4.200659}, {\"Brand\": \"Uber\", \"Sector\": \"Logistics\", \"Year\": 2020, \"BrandValue\": 4.184606}, {\"Brand\": \"UnitedHealthcare\", \"Sector\": \"Healthcare\", \"Year\": 2020, \"BrandValue\": 4.452155}, {\"Brand\": \"UPS\", \"Sector\": \"Logistics\", \"Year\": 2020, \"BrandValue\": 4.469557}, {\"Brand\": \"Verizon\", \"Sector\": \"Telecoms\", \"Year\": 2020, \"BrandValue\": 4.804085}, {\"Brand\": \"VISA\", \"Sector\": \"Commercial Services\", \"Year\": 2020, \"BrandValue\": 4.429041}, {\"Brand\": \"Walgreens\", \"Sector\": \"Retail\", \"Year\": 2020, \"BrandValue\": 4.172369}, {\"Brand\": \"Walmart\", \"Sector\": \"Retail\", \"Year\": 2020, \"BrandValue\": 4.889414}, {\"Brand\": \"Wells Fargo\", \"Sector\": \"Banking\", \"Year\": 2020, \"BrandValue\": 4.611522}, {\"Brand\": \"Xfinity\", \"Sector\": \"Telecoms\", \"Year\": 2020, \"BrandValue\": 4.459815}, {\"Brand\": \"YouTube\", \"Sector\": \"Media\", \"Year\": 2020, \"BrandValue\": 4.213491}, {\"Brand\": \"accenture\", \"Sector\": \"IT Services\", \"Year\": 2019, \"BrandValue\": 4.419824}, {\"Brand\": \"Amazon\", \"Sector\": \"Retail\", \"Year\": 2019, \"BrandValue\": 5.273938}, {\"Brand\": \"Apple\", \"Sector\": \"Tech\", \"Year\": 2019, \"BrandValue\": 5.186487}, {\"Brand\": \"AT&T\", \"Sector\": \"Telecoms\", \"Year\": 2019, \"BrandValue\": 4.939544}, {\"Brand\": \"Bank of America\", \"Sector\": \"Banking\", \"Year\": 2019, \"BrandValue\": 4.564512}, {\"Brand\": \"Chase\", \"Sector\": \"Banking\", \"Year\": 2019, \"BrandValue\": 4.559488}, {\"Brand\": \"Cisco\", \"Sector\": \"Tech\", \"Year\": 2019, \"BrandValue\": 4.337978}, {\"Brand\": \"Citi\", \"Sector\": \"Banking\", \"Year\": 2019, \"BrandValue\": 4.561185}, {\"Brand\": \"Coca-Cola\", \"Sector\": \"Non Alcoholic Drinks\", \"Year\": 2019, \"BrandValue\": 4.558565}, {\"Brand\": \"Costco\", \"Sector\": \"Retail\", \"Year\": 2019, \"BrandValue\": 4.233377}, {\"Brand\": \"CVS\", \"Sector\": \"Retail\", \"Year\": 2019, \"BrandValue\": 4.327441}, {\"Brand\": \"Dell\", \"Sector\": \"Tech\", \"Year\": 2019, \"BrandValue\": 4.359076}, {\"Brand\": \"Deloitte\", \"Sector\": \"Commercial Services\", \"Year\": 2019, \"BrandValue\": 4.471776}, {\"Brand\": \"Facebook\", \"Sector\": \"Media\", \"Year\": 2019, \"BrandValue\": 4.920134}, {\"Brand\": \"FedEx\", \"Sector\": \"Logistics\", \"Year\": 2019, \"BrandValue\": 4.384389}, {\"Brand\": \"Ford\", \"Sector\": \"Automobiles\", \"Year\": 2019, \"BrandValue\": 4.273511}, {\"Brand\": \"General Electric\", \"Sector\": \"Engineering & Construction\", \"Year\": 2019, \"BrandValue\": 4.451218}, {\"Brand\": \"Google\", \"Sector\": \"Tech\", \"Year\": 2019, \"BrandValue\": 5.154591}, {\"Brand\": \"Home Depot\", \"Sector\": \"Retail\", \"Year\": 2019, \"BrandValue\": 4.672615}, {\"Brand\": \"IBM\", \"Sector\": \"Tech\", \"Year\": 2019, \"BrandValue\": 4.516588}, {\"Brand\": \"Intel\", \"Sector\": \"Tech\", \"Year\": 2019, \"BrandValue\": 4.464087}, {\"Brand\": \"JP Morgan\", \"Sector\": \"Banking\", \"Year\": 2019, \"BrandValue\": 4.296599}, {\"Brand\": \"Lowe's\", \"Sector\": \"Retail\", \"Year\": 2019, \"BrandValue\": 4.379088}, {\"Brand\": \"Mastercard\", \"Sector\": \"Commercial Services\", \"Year\": 2019, \"BrandValue\": 4.262285}, {\"Brand\": \"Microsoft\", \"Sector\": \"Tech\", \"Year\": 2019, \"BrandValue\": 5.077713}, {\"Brand\": \"Netflix\", \"Sector\": \"Media\", \"Year\": 2019, \"BrandValue\": 4.325557}, {\"Brand\": \"Nike\", \"Sector\": \"Apparel\", \"Year\": 2019, \"BrandValue\": 4.510826}, {\"Brand\": \"Oracle\", \"Sector\": \"Tech\", \"Year\": 2019, \"BrandValue\": 4.402726}, {\"Brand\": \"PayPal\", \"Sector\": \"Commercial Services\", \"Year\": 2019, \"BrandValue\": 4.117006}, {\"Brand\": \"Pepsi\", \"Sector\": \"Non Alcoholic Drinks\", \"Year\": 2019, \"BrandValue\": 4.267641}, {\"Brand\": \"PWC\", \"Sector\": \"Commercial Services\", \"Year\": 2019, \"BrandValue\": 4.396077}, {\"Brand\": \"Starbucks\", \"Sector\": \"Restaurants\", \"Year\": 2019, \"BrandValue\": 4.594039}, {\"Brand\": \"Target\", \"Sector\": \"Retail\", \"Year\": 2019, \"BrandValue\": 4.217036}, {\"Brand\": \"Uber\", \"Sector\": \"Logistics\", \"Year\": 2019, \"BrandValue\": 4.352337}, {\"Brand\": \"UnitedHealthcare\", \"Sector\": \"Healthcare\", \"Year\": 2019, \"BrandValue\": 4.485395}, {\"Brand\": \"UPS\", \"Sector\": \"Logistics\", \"Year\": 2019, \"BrandValue\": 4.466868}, {\"Brand\": \"Verizon\", \"Sector\": \"Telecoms\", \"Year\": 2019, \"BrandValue\": 4.852199}, {\"Brand\": \"VISA\", \"Sector\": \"Commercial Services\", \"Year\": 2019, \"BrandValue\": 4.442166}, {\"Brand\": \"Walgreens\", \"Sector\": \"Retail\", \"Year\": 2019, \"BrandValue\": 4.202216}, {\"Brand\": \"Walmart\", \"Sector\": \"Retail\", \"Year\": 2019, \"BrandValue\": 4.831659}, {\"Brand\": \"Wells Fargo\", \"Sector\": \"Banking\", \"Year\": 2019, \"BrandValue\": 4.601495}, {\"Brand\": \"Xfinity\", \"Sector\": \"Telecoms\", \"Year\": 2019, \"BrandValue\": 4.432937}, {\"Brand\": \"YouTube\", \"Sector\": \"Media\", \"Year\": 2019, \"BrandValue\": 4.578031}, {\"Brand\": \"accenture\", \"Sector\": \"IT Services\", \"Year\": 2018, \"BrandValue\": 4.225439}, {\"Brand\": \"Amazon\", \"Sector\": \"Retail\", \"Year\": 2018, \"BrandValue\": 5.178433}, {\"Brand\": \"Apple\", \"Sector\": \"Tech\", \"Year\": 2018, \"BrandValue\": 5.165277}, {\"Brand\": \"AT&T\", \"Sector\": \"Telecoms\", \"Year\": 2018, \"BrandValue\": 4.916043}, {\"Brand\": \"Bank of America\", \"Sector\": \"Banking\", \"Year\": 2018, \"BrandValue\": 4.522301}, {\"Brand\": \"Chase\", \"Sector\": \"Banking\", \"Year\": 2018, \"BrandValue\": 4.589302}, {\"Brand\": \"Cisco\", \"Sector\": \"Tech\", \"Year\": 2018, \"BrandValue\": 4.288048}, {\"Brand\": \"Citi\", \"Sector\": \"Banking\", \"Year\": 2018, \"BrandValue\": 4.488311}, {\"Brand\": \"Coca-Cola\", \"Sector\": \"Non Alcoholic Drinks\", \"Year\": 2018, \"BrandValue\": 4.482559}, {\"Brand\": \"Costco\", \"Sector\": \"Retail\", \"Year\": 2018, \"BrandValue\": 4.085719}, {\"Brand\": \"CVS\", \"Sector\": \"Retail\", \"Year\": 2018, \"BrandValue\": 4.31393}, {\"Brand\": \"Dell\", \"Sector\": \"Tech\", \"Year\": 2018, \"BrandValue\": 4.213677}, {\"Brand\": \"Deloitte\", \"Sector\": \"Commercial Services\", \"Year\": 2018, \"BrandValue\": 4.318856}, {\"Brand\": \"Facebook\", \"Sector\": \"Media\", \"Year\": 2018, \"BrandValue\": 4.883809}, {\"Brand\": \"FedEx\", \"Sector\": \"Logistics\", \"Year\": 2018, \"BrandValue\": 4.259355}, {\"Brand\": \"Ford\", \"Sector\": \"Automobiles\", \"Year\": 2018, \"BrandValue\": 4.259403}, {\"Brand\": \"General Electric\", \"Sector\": \"Engineering & Construction\", \"Year\": 2018, \"BrandValue\": 4.505218}, {\"Brand\": \"Google\", \"Sector\": \"Tech\", \"Year\": 2018, \"BrandValue\": 5.082466}, {\"Brand\": \"Home Depot\", \"Sector\": \"Retail\", \"Year\": 2018, \"BrandValue\": 4.528248}, {\"Brand\": \"IBM\", \"Sector\": \"Tech\", \"Year\": 2018, \"BrandValue\": 4.511589}, {\"Brand\": \"Intel\", \"Sector\": \"Tech\", \"Year\": 2018, \"BrandValue\": 4.343586}, {\"Brand\": \"JP Morgan\", \"Sector\": \"Banking\", \"Year\": 2018, \"BrandValue\": 4.246769}, {\"Brand\": \"Lowe's\", \"Sector\": \"Retail\", \"Year\": 2018, \"BrandValue\": 4.204771}, {\"Brand\": \"Mastercard\", \"Sector\": \"Commercial Services\", \"Year\": 2018, \"BrandValue\": 4.102914}, {\"Brand\": \"Microsoft\", \"Sector\": \"Tech\", \"Year\": 2018, \"BrandValue\": 4.909358}, {\"Brand\": \"Netflix\", \"Sector\": \"Media\", \"Year\": 2018, \"BrandValue\": 4.013806}, {\"Brand\": \"Nike\", \"Sector\": \"Apparel\", \"Year\": 2018, \"BrandValue\": 4.447623}, {\"Brand\": \"Oracle\", \"Sector\": \"Tech\", \"Year\": 2018, \"BrandValue\": 4.47179}, {\"Brand\": \"PayPal\", \"Sector\": \"Commercial Services\", \"Year\": 2018, \"BrandValue\": 3.955062}, {\"Brand\": \"Pepsi\", \"Sector\": \"Non Alcoholic Drinks\", \"Year\": 2018, \"BrandValue\": 4.301789}, {\"Brand\": \"PWC\", \"Sector\": \"Commercial Services\", \"Year\": 2018, \"BrandValue\": 4.348052}, {\"Brand\": \"Starbucks\", \"Sector\": \"Restaurants\", \"Year\": 2018, \"BrandValue\": 4.510826}, {\"Brand\": \"Target\", \"Sector\": \"Retail\", \"Year\": 2018, \"BrandValue\": 4.136054}, {\"Brand\": \"Uber\", \"Sector\": \"Logistics\", \"Year\": 2018, \"BrandValue\": 4.220866}, {\"Brand\": \"UnitedHealthcare\", \"Sector\": \"Healthcare\", \"Year\": 2018, \"BrandValue\": 4.26984}, {\"Brand\": \"UPS\", \"Sector\": \"Logistics\", \"Year\": 2018, \"BrandValue\": 4.342482}, {\"Brand\": \"Verizon\", \"Sector\": \"Telecoms\", \"Year\": 2018, \"BrandValue\": 4.798139}, {\"Brand\": \"VISA\", \"Sector\": \"Commercial Services\", \"Year\": 2018, \"BrandValue\": 4.314941}, {\"Brand\": \"Walgreens\", \"Sector\": \"Retail\", \"Year\": 2018, \"BrandValue\": 4.191619}, {\"Brand\": \"Walmart\", \"Sector\": \"Retail\", \"Year\": 2018, \"BrandValue\": 4.788734}, {\"Brand\": \"Wells Fargo\", \"Sector\": \"Banking\", \"Year\": 2018, \"BrandValue\": 4.644419}, {\"Brand\": \"Xfinity\", \"Sector\": \"Telecoms\", \"Year\": 2018, \"BrandValue\": 4.41699}, {\"Brand\": \"YouTube\", \"Sector\": \"Media\", \"Year\": 2018, \"BrandValue\": 4.413082}, {\"Brand\": \"accenture\", \"Sector\": \"IT Services\", \"Year\": 2017, \"BrandValue\": 4.242144}, {\"Brand\": \"Amazon\", \"Sector\": \"Retail\", \"Year\": 2017, \"BrandValue\": 5.026925}, {\"Brand\": \"Apple\", \"Sector\": \"Tech\", \"Year\": 2017, \"BrandValue\": 5.029956}, {\"Brand\": \"AT&T\", \"Sector\": \"Telecoms\", \"Year\": 2017, \"BrandValue\": 4.939599}, {\"Brand\": \"Bank of America\", \"Sector\": \"Banking\", \"Year\": 2017, \"BrandValue\": 4.481055}, {\"Brand\": \"Chase\", \"Sector\": \"Banking\", \"Year\": 2017, \"BrandValue\": 4.528106}, {\"Brand\": \"Cisco\", \"Sector\": \"Tech\", \"Year\": 2017, \"BrandValue\": 4.316683}, {\"Brand\": \"Citi\", \"Sector\": \"Banking\", \"Year\": 2017, \"BrandValue\": 4.442072}, {\"Brand\": \"Coca-Cola\", \"Sector\": \"Non Alcoholic Drinks\", \"Year\": 2017, \"BrandValue\": 4.503586}, {\"Brand\": \"Costco\", \"Sector\": \"Retail\", \"Year\": 2017, \"BrandValue\": 4.128884}, {\"Brand\": \"CVS\", \"Sector\": \"Retail\", \"Year\": 2017, \"BrandValue\": 4.367095}, {\"Brand\": \"Dell\", \"Sector\": \"Tech\", \"Year\": 2017, \"BrandValue\": 4.259737}, {\"Brand\": \"Deloitte\", \"Sector\": \"Commercial Services\", \"Year\": 2017, \"BrandValue\": 4.224688}, {\"Brand\": \"Facebook\", \"Sector\": \"Media\", \"Year\": 2017, \"BrandValue\": 4.792378}, {\"Brand\": \"FedEx\", \"Sector\": \"Logistics\", \"Year\": 2017, \"BrandValue\": 4.232793}, {\"Brand\": \"Ford\", \"Sector\": \"Automobiles\", \"Year\": 2017, \"BrandValue\": 4.350868}, {\"Brand\": \"General Electric\", \"Sector\": \"Engineering & Construction\", \"Year\": 2017, \"BrandValue\": 4.547996}, {\"Brand\": \"Google\", \"Sector\": \"Tech\", \"Year\": 2017, \"BrandValue\": 5.039295}, {\"Brand\": \"Home Depot\", \"Sector\": \"Retail\", \"Year\": 2017, \"BrandValue\": 4.480237}, {\"Brand\": \"IBM\", \"Sector\": \"Tech\", \"Year\": 2017, \"BrandValue\": 4.557652}, {\"Brand\": \"Intel\", \"Sector\": \"Tech\", \"Year\": 2017, \"BrandValue\": 4.30897}, {\"Brand\": \"JP Morgan\", \"Sector\": \"Banking\", \"Year\": 2017, \"BrandValue\": 4.196176}, {\"Brand\": \"Lowe's\", \"Sector\": \"Retail\", \"Year\": 2017, \"BrandValue\": 4.1442}, {\"Brand\": \"Mastercard\", \"Sector\": \"Commercial Services\", \"Year\": 2017, \"BrandValue\": 4.088349}, {\"Brand\": \"Microsoft\", \"Sector\": \"Tech\", \"Year\": 2017, \"BrandValue\": 4.590686}, {\"Brand\": \"Netflix\", \"Sector\": \"Media\", \"Year\": 2017, \"BrandValue\": 4.882325}, {\"Brand\": \"Nike\", \"Sector\": \"Apparel\", \"Year\": 2017, \"BrandValue\": 4.501908}, {\"Brand\": \"Oracle\", \"Sector\": \"Tech\", \"Year\": 2017, \"BrandValue\": 4.412931}, {\"Brand\": \"PayPal\", \"Sector\": \"Commercial Services\", \"Year\": 2017, \"BrandValue\": 4.118033}, {\"Brand\": \"Pepsi\", \"Sector\": \"Non Alcoholic Drinks\", \"Year\": 2017, \"BrandValue\": 4.261952}, {\"Brand\": \"PWC\", \"Sector\": \"Commercial Services\", \"Year\": 2017, \"BrandValue\": 4.267406}, {\"Brand\": \"Starbucks\", \"Sector\": \"Restaurants\", \"Year\": 2017, \"BrandValue\": 4.408494}, {\"Brand\": \"Target\", \"Sector\": \"Retail\", \"Year\": 2017, \"BrandValue\": 4.230857}, {\"Brand\": \"Uber\", \"Sector\": \"Logistics\", \"Year\": 2017, \"BrandValue\": 4.164234}, {\"Brand\": \"UnitedHealthcare\", \"Sector\": \"Healthcare\", \"Year\": 2017, \"BrandValue\": 4.126424}, {\"Brand\": \"UPS\", \"Sector\": \"Logistics\", \"Year\": 2017, \"BrandValue\": 4.344942}, {\"Brand\": \"Verizon\", \"Sector\": \"Telecoms\", \"Year\": 2017, \"BrandValue\": 4.818721}, {\"Brand\": \"VISA\", \"Sector\": \"Commercial Services\", \"Year\": 2017, \"BrandValue\": 4.31513}, {\"Brand\": \"Walgreens\", \"Sector\": \"Retail\", \"Year\": 2017, \"BrandValue\": 4.203278}, {\"Brand\": \"Walmart\", \"Sector\": \"Retail\", \"Year\": 2017, \"BrandValue\": 4.793867}, {\"Brand\": \"Wells Fargo\", \"Sector\": \"Banking\", \"Year\": 2017, \"BrandValue\": 4.619281}, {\"Brand\": \"Xfinity\", \"Sector\": \"Telecoms\", \"Year\": 2017, \"BrandValue\": 4.41797}, {\"Brand\": \"YouTube\", \"Sector\": \"Media\", \"Year\": 2017, \"BrandValue\": 4.08361}, {\"Brand\": \"accenture\", \"Sector\": \"IT Services\", \"Year\": 2016, \"BrandValue\": 4.103359}, {\"Brand\": \"Amazon\", \"Sector\": \"Retail\", \"Year\": 2016, \"BrandValue\": 4.842871}, {\"Brand\": \"Apple\", \"Sector\": \"Tech\", \"Year\": 2016, \"BrandValue\": 5.164109}, {\"Brand\": \"AT&T\", \"Sector\": \"Telecoms\", \"Year\": 2016, \"BrandValue\": 4.777456}, {\"Brand\": \"Bank of America\", \"Sector\": \"Banking\", \"Year\": 2016, \"BrandValue\": 4.430204}, {\"Brand\": \"Chase\", \"Sector\": \"Banking\", \"Year\": 2016, \"BrandValue\": 4.485764}, {\"Brand\": \"Cisco\", \"Sector\": \"Tech\", \"Year\": 2016, \"BrandValue\": 4.282441}, {\"Brand\": \"Citi\", \"Sector\": \"Banking\", \"Year\": 2016, \"BrandValue\": 4.415491}, {\"Brand\": \"Coca-Cola\", \"Sector\": \"Non Alcoholic Drinks\", \"Year\": 2016, \"BrandValue\": 4.533772}, {\"Brand\": \"Costco\", \"Sector\": \"Retail\", \"Year\": 2016, \"BrandValue\": 4.073608}, {\"Brand\": \"CVS\", \"Sector\": \"Retail\", \"Year\": 2016, \"BrandValue\": 4.359532}, {\"Brand\": \"Dell\", \"Sector\": \"Tech\", \"Year\": 2016, \"BrandValue\": 4.164145}, {\"Brand\": \"Deloitte\", \"Sector\": \"Commercial Services\", \"Year\": 2016, \"BrandValue\": 4.208441}, {\"Brand\": \"Facebook\", \"Sector\": \"Media\", \"Year\": 2016, \"BrandValue\": 4.531504}, {\"Brand\": \"FedEx\", \"Sector\": \"Logistics\", \"Year\": 2016, \"BrandValue\": 4.116575}, {\"Brand\": \"Ford\", \"Sector\": \"Automobiles\", \"Year\": 2016, \"BrandValue\": 4.296029}, {\"Brand\": \"General Electric\", \"Sector\": \"Engineering & Construction\", \"Year\": 2016, \"BrandValue\": 4.465546}, {\"Brand\": \"Google\", \"Sector\": \"Tech\", \"Year\": 2016, \"BrandValue\": 4.945336}, {\"Brand\": \"Home Depot\", \"Sector\": \"Retail\", \"Year\": 2016, \"BrandValue\": 4.459362}, {\"Brand\": \"IBM\", \"Sector\": \"Tech\", \"Year\": 2016, \"BrandValue\": 4.502236}, {\"Brand\": \"Intel\", \"Sector\": \"Tech\", \"Year\": 2016, \"BrandValue\": 4.358791}, {\"Brand\": \"JP Morgan\", \"Sector\": \"Banking\", \"Year\": 2016, \"BrandValue\": 4.112136}, {\"Brand\": \"Lowe's\", \"Sector\": \"Retail\", \"Year\": 2016, \"BrandValue\": 4.104385}, {\"Brand\": \"Mastercard\", \"Sector\": \"Commercial Services\", \"Year\": 2016, \"BrandValue\": 3.922674}, {\"Brand\": \"Microsoft\", \"Sector\": \"Tech\", \"Year\": 2016, \"BrandValue\": 4.632832}, {\"Brand\": \"Netflix\", \"Sector\": \"Media\", \"Year\": 2016, \"BrandValue\": 4.827744}, {\"Brand\": \"Nike\", \"Sector\": \"Apparel\", \"Year\": 2016, \"BrandValue\": 4.447793}, {\"Brand\": \"Oracle\", \"Sector\": \"Tech\", \"Year\": 2016, \"BrandValue\": 4.345099}, {\"Brand\": \"PayPal\", \"Sector\": \"Commercial Services\", \"Year\": 2016, \"BrandValue\": 3.977358}, {\"Brand\": \"Pepsi\", \"Sector\": \"Non Alcoholic Drinks\", \"Year\": 2016, \"BrandValue\": 4.27754}, {\"Brand\": \"PWC\", \"Sector\": \"Commercial Services\", \"Year\": 2016, \"BrandValue\": 4.268789}, {\"Brand\": \"Starbucks\", \"Sector\": \"Restaurants\", \"Year\": 2016, \"BrandValue\": 4.365207}, {\"Brand\": \"Target\", \"Sector\": \"Retail\", \"Year\": 2016, \"BrandValue\": 4.18557}, {\"Brand\": \"Uber\", \"Sector\": \"Logistics\", \"Year\": 2016, \"BrandValue\": 4.0423}, {\"Brand\": \"UnitedHealthcare\", \"Sector\": \"Healthcare\", \"Year\": 2016, \"BrandValue\": 4.174176}, {\"Brand\": \"UPS\", \"Sector\": \"Logistics\", \"Year\": 2016, \"BrandValue\": 4.29148}, {\"Brand\": \"Verizon\", \"Sector\": \"Telecoms\", \"Year\": 2016, \"BrandValue\": 4.800139}, {\"Brand\": \"VISA\", \"Sector\": \"Commercial Services\", \"Year\": 2016, \"BrandValue\": 4.056638}, {\"Brand\": \"Walgreens\", \"Sector\": \"Retail\", \"Year\": 2016, \"BrandValue\": 4.155791}, {\"Brand\": \"Walmart\", \"Sector\": \"Retail\", \"Year\": 2016, \"BrandValue\": 4.729626}, {\"Brand\": \"Wells Fargo\", \"Sector\": \"Banking\", \"Year\": 2016, \"BrandValue\": 4.645127}, {\"Brand\": \"Xfinity\", \"Sector\": \"Telecoms\", \"Year\": 2016, \"BrandValue\": 4.383564}, {\"Brand\": \"YouTube\", \"Sector\": \"Media\", \"Year\": 2016, \"BrandValue\": 3.985606}]}}, {\"mode\": \"vega-lite\"});\n",
       "</script>"
      ],
      "text/plain": [
       "alt.Chart(...)"
      ]
     },
     "execution_count": 242,
     "metadata": {},
     "output_type": "execute_result"
    }
   ],
   "source": [
    "alt.Chart(df).mark_circle().encode(\n",
    "    alt.X('BrandValue'),\n",
    "    alt.Y('Brand',axis=alt.Axis(title=None)),\n",
    "    alt.Color('Year:O'),\n",
    ")"
   ]
  },
  {
   "cell_type": "code",
   "execution_count": 275,
   "id": "3e42d255-2b74-4978-bf67-7a49cd3e1d11",
   "metadata": {},
   "outputs": [
    {
     "data": {
      "text/html": [
       "\n",
       "<style>\n",
       "  #altair-viz-dd06c3b938384a4eb2e08410ee8ddab6.vega-embed {\n",
       "    width: 100%;\n",
       "    display: flex;\n",
       "  }\n",
       "\n",
       "  #altair-viz-dd06c3b938384a4eb2e08410ee8ddab6.vega-embed details,\n",
       "  #altair-viz-dd06c3b938384a4eb2e08410ee8ddab6.vega-embed details summary {\n",
       "    position: relative;\n",
       "  }\n",
       "</style>\n",
       "<div id=\"altair-viz-dd06c3b938384a4eb2e08410ee8ddab6\"></div>\n",
       "<script type=\"text/javascript\">\n",
       "  var VEGA_DEBUG = (typeof VEGA_DEBUG == \"undefined\") ? {} : VEGA_DEBUG;\n",
       "  (function(spec, embedOpt){\n",
       "    let outputDiv = document.currentScript.previousElementSibling;\n",
       "    if (outputDiv.id !== \"altair-viz-dd06c3b938384a4eb2e08410ee8ddab6\") {\n",
       "      outputDiv = document.getElementById(\"altair-viz-dd06c3b938384a4eb2e08410ee8ddab6\");\n",
       "    }\n",
       "    const paths = {\n",
       "      \"vega\": \"https://cdn.jsdelivr.net/npm/vega@5?noext\",\n",
       "      \"vega-lib\": \"https://cdn.jsdelivr.net/npm/vega-lib?noext\",\n",
       "      \"vega-lite\": \"https://cdn.jsdelivr.net/npm/vega-lite@5.20.1?noext\",\n",
       "      \"vega-embed\": \"https://cdn.jsdelivr.net/npm/vega-embed@6?noext\",\n",
       "    };\n",
       "\n",
       "    function maybeLoadScript(lib, version) {\n",
       "      var key = `${lib.replace(\"-\", \"\")}_version`;\n",
       "      return (VEGA_DEBUG[key] == version) ?\n",
       "        Promise.resolve(paths[lib]) :\n",
       "        new Promise(function(resolve, reject) {\n",
       "          var s = document.createElement('script');\n",
       "          document.getElementsByTagName(\"head\")[0].appendChild(s);\n",
       "          s.async = true;\n",
       "          s.onload = () => {\n",
       "            VEGA_DEBUG[key] = version;\n",
       "            return resolve(paths[lib]);\n",
       "          };\n",
       "          s.onerror = () => reject(`Error loading script: ${paths[lib]}`);\n",
       "          s.src = paths[lib];\n",
       "        });\n",
       "    }\n",
       "\n",
       "    function showError(err) {\n",
       "      outputDiv.innerHTML = `<div class=\"error\" style=\"color:red;\">${err}</div>`;\n",
       "      throw err;\n",
       "    }\n",
       "\n",
       "    function displayChart(vegaEmbed) {\n",
       "      vegaEmbed(outputDiv, spec, embedOpt)\n",
       "        .catch(err => showError(`Javascript Error: ${err.message}<br>This usually means there's a typo in your chart specification. See the javascript console for the full traceback.`));\n",
       "    }\n",
       "\n",
       "    if(typeof define === \"function\" && define.amd) {\n",
       "      requirejs.config({paths});\n",
       "      require([\"vega-embed\"], displayChart, err => showError(`Error loading script: ${err.message}`));\n",
       "    } else {\n",
       "      maybeLoadScript(\"vega\", \"5\")\n",
       "        .then(() => maybeLoadScript(\"vega-lite\", \"5.20.1\"))\n",
       "        .then(() => maybeLoadScript(\"vega-embed\", \"6\"))\n",
       "        .catch(showError)\n",
       "        .then(() => displayChart(vegaEmbed));\n",
       "    }\n",
       "  })({\"config\": {\"view\": {\"continuousWidth\": 300, \"continuousHeight\": 300}}, \"data\": {\"name\": \"data-2706b314920a58e4a85904afd4e53f52\"}, \"mark\": {\"type\": \"circle\"}, \"encoding\": {\"x\": {\"field\": \"BrandValue\", \"scale\": {\"domain\": [3, 7]}, \"type\": \"quantitative\"}, \"y\": {\"field\": \"Brand\", \"sort\": {\"field\": \"BrandValue\", \"op\": \"average\", \"order\": \"descending\"}, \"type\": \"nominal\"}}, \"height\": 600, \"params\": [{\"name\": \"select\", \"select\": {\"type\": \"point\", \"fields\": [\"Year\"]}, \"bind\": {\"input\": \"range\", \"max\": 2021, \"min\": 2016, \"step\": 1}, \"value\": 2016}], \"transform\": [{\"filter\": {\"param\": \"select\"}}], \"width\": 200, \"$schema\": \"https://vega.github.io/schema/vega-lite/v5.20.1.json\", \"datasets\": {\"data-2706b314920a58e4a85904afd4e53f52\": [{\"Brand\": \"accenture\", \"Sector\": \"IT Services\", \"Year\": 2021, \"BrandValue\": 4.415441}, {\"Brand\": \"Amazon\", \"Sector\": \"Retail\", \"Year\": 2021, \"BrandValue\": 5.405155}, {\"Brand\": \"Apple\", \"Sector\": \"Tech\", \"Year\": 2021, \"BrandValue\": 5.420575}, {\"Brand\": \"AT&T\", \"Sector\": \"Telecoms\", \"Year\": 2021, \"BrandValue\": 4.710726}, {\"Brand\": \"Bank of America\", \"Sector\": \"Banking\", \"Year\": 2021, \"BrandValue\": 4.515702}, {\"Brand\": \"Chase\", \"Sector\": \"Banking\", \"Year\": 2021, \"BrandValue\": 4.460131}, {\"Brand\": \"Cisco\", \"Sector\": \"Tech\", \"Year\": 2021, \"BrandValue\": 4.303671}, {\"Brand\": \"Citi\", \"Sector\": \"Banking\", \"Year\": 2021, \"BrandValue\": 4.507856}, {\"Brand\": \"Coca-Cola\", \"Sector\": \"Non Alcoholic Drinks\", \"Year\": 2021, \"BrandValue\": 4.520693}, {\"Brand\": \"Costco\", \"Sector\": \"Retail\", \"Year\": 2021, \"BrandValue\": 4.460717}, {\"Brand\": \"CVS\", \"Sector\": \"Retail\", \"Year\": 2021, \"BrandValue\": 4.43043}, {\"Brand\": \"Dell\", \"Sector\": \"Tech\", \"Year\": 2021, \"BrandValue\": 4.265455}, {\"Brand\": \"Deloitte\", \"Sector\": \"Commercial Services\", \"Year\": 2021, \"BrandValue\": 4.425893}, {\"Brand\": \"Facebook\", \"Sector\": \"Media\", \"Year\": 2021, \"BrandValue\": 4.91103}, {\"Brand\": \"FedEx\", \"Sector\": \"Logistics\", \"Year\": 2021, \"BrandValue\": 4.371788}, {\"Brand\": \"Ford\", \"Sector\": \"Automobiles\", \"Year\": 2021, \"BrandValue\": 4.355566}, {\"Brand\": \"General Electric\", \"Sector\": \"Engineering & Construction\", \"Year\": 2021, \"BrandValue\": 4.255948}, {\"Brand\": \"Google\", \"Sector\": \"Tech\", \"Year\": 2021, \"BrandValue\": 5.281522}, {\"Brand\": \"Home Depot\", \"Sector\": \"Retail\", \"Year\": 2021, \"BrandValue\": 4.723595}, {\"Brand\": \"IBM\", \"Sector\": \"Tech\", \"Year\": 2021, \"BrandValue\": 4.438194}, {\"Brand\": \"Intel\", \"Sector\": \"Tech\", \"Year\": 2021, \"BrandValue\": 4.502659}, {\"Brand\": \"JP Morgan\", \"Sector\": \"Banking\", \"Year\": 2021, \"BrandValue\": 4.372267}, {\"Brand\": \"Lowe's\", \"Sector\": \"Retail\", \"Year\": 2021, \"BrandValue\": 4.482531}, {\"Brand\": \"Mastercard\", \"Sector\": \"Commercial Services\", \"Year\": 2021, \"BrandValue\": 4.28142}, {\"Brand\": \"Microsoft\", \"Sector\": \"Tech\", \"Year\": 2021, \"BrandValue\": 5.147475}, {\"Brand\": \"Netflix\", \"Sector\": \"Media\", \"Year\": 2021, \"BrandValue\": 4.396949}, {\"Brand\": \"Nike\", \"Sector\": \"Apparel\", \"Year\": 2021, \"BrandValue\": 4.483487}, {\"Brand\": \"Oracle\", \"Sector\": \"Tech\", \"Year\": 2021, \"BrandValue\": 4.417588}, {\"Brand\": \"PayPal\", \"Sector\": \"Commercial Services\", \"Year\": 2021, \"BrandValue\": 4.214897}, {\"Brand\": \"Pepsi\", \"Sector\": \"Non Alcoholic Drinks\", \"Year\": 2021, \"BrandValue\": 4.263991}, {\"Brand\": \"PWC\", \"Sector\": \"Commercial Services\", \"Year\": 2021, \"BrandValue\": 4.346979}, {\"Brand\": \"Starbucks\", \"Sector\": \"Restaurants\", \"Year\": 2021, \"BrandValue\": 4.584783}, {\"Brand\": \"Target\", \"Sector\": \"Retail\", \"Year\": 2021, \"BrandValue\": 4.315656}, {\"Brand\": \"Uber\", \"Sector\": \"Logistics\", \"Year\": 2021, \"BrandValue\": 4.311288}, {\"Brand\": \"UnitedHealthcare\", \"Sector\": \"Healthcare\", \"Year\": 2021, \"BrandValue\": 4.43629}, {\"Brand\": \"UPS\", \"Sector\": \"Logistics\", \"Year\": 2021, \"BrandValue\": 4.477931}, {\"Brand\": \"Verizon\", \"Sector\": \"Telecoms\", \"Year\": 2021, \"BrandValue\": 4.838156}, {\"Brand\": \"VISA\", \"Sector\": \"Commercial Services\", \"Year\": 2021, \"BrandValue\": 4.423377}, {\"Brand\": \"Walgreens\", \"Sector\": \"Retail\", \"Year\": 2021, \"BrandValue\": 4.206745}, {\"Brand\": \"Walmart\", \"Sector\": \"Retail\", \"Year\": 2021, \"BrandValue\": 4.969346}, {\"Brand\": \"Wells Fargo\", \"Sector\": \"Banking\", \"Year\": 2021, \"BrandValue\": 4.502495}, {\"Brand\": \"Xfinity\", \"Sector\": \"Telecoms\", \"Year\": 2021, \"BrandValue\": 4.401866}, {\"Brand\": \"YouTube\", \"Sector\": \"Media\", \"Year\": 2021, \"BrandValue\": 4.237695}, {\"Brand\": \"accenture\", \"Sector\": \"IT Services\", \"Year\": 2020, \"BrandValue\": 4.403018}, {\"Brand\": \"Amazon\", \"Sector\": \"Retail\", \"Year\": 2020, \"BrandValue\": 5.343981}, {\"Brand\": \"Apple\", \"Sector\": \"Tech\", \"Year\": 2020, \"BrandValue\": 5.147751}, {\"Brand\": \"AT&T\", \"Sector\": \"Telecoms\", \"Year\": 2020, \"BrandValue\": 4.77161}, {\"Brand\": \"Bank of America\", \"Sector\": \"Banking\", \"Year\": 2020, \"BrandValue\": 4.548525}, {\"Brand\": \"Chase\", \"Sector\": \"Banking\", \"Year\": 2020, \"BrandValue\": 4.49485}, {\"Brand\": \"Cisco\", \"Sector\": \"Tech\", \"Year\": 2020, \"BrandValue\": 4.367766}, {\"Brand\": \"Citi\", \"Sector\": \"Banking\", \"Year\": 2020, \"BrandValue\": 4.520235}, {\"Brand\": \"Coca-Cola\", \"Sector\": \"Non Alcoholic Drinks\", \"Year\": 2020, \"BrandValue\": 4.57904}, {\"Brand\": \"Costco\", \"Sector\": \"Retail\", \"Year\": 2020, \"BrandValue\": 4.354185}, {\"Brand\": \"CVS\", \"Sector\": \"Retail\", \"Year\": 2020, \"BrandValue\": 4.365151}, {\"Brand\": \"Dell\", \"Sector\": \"Tech\", \"Year\": 2020, \"BrandValue\": 4.246252}, {\"Brand\": \"Deloitte\", \"Sector\": \"Commercial Services\", \"Year\": 2020, \"BrandValue\": 4.511496}, {\"Brand\": \"Facebook\", \"Sector\": \"Media\", \"Year\": 2020, \"BrandValue\": 4.902025}, {\"Brand\": \"FedEx\", \"Sector\": \"Logistics\", \"Year\": 2020, \"BrandValue\": 4.361539}, {\"Brand\": \"Ford\", \"Sector\": \"Automobiles\", \"Year\": 2020, \"BrandValue\": 4.267524}, {\"Brand\": \"General Electric\", \"Sector\": \"Engineering & Construction\", \"Year\": 2020, \"BrandValue\": 4.383905}, {\"Brand\": \"Google\", \"Sector\": \"Tech\", \"Year\": 2020, \"BrandValue\": 5.275339}, {\"Brand\": \"Home Depot\", \"Sector\": \"Retail\", \"Year\": 2020, \"BrandValue\": 4.70336}, {\"Brand\": \"IBM\", \"Sector\": \"Tech\", \"Year\": 2020, \"BrandValue\": 4.5232}, {\"Brand\": \"Intel\", \"Sector\": \"Tech\", \"Year\": 2020, \"BrandValue\": 4.439443}, {\"Brand\": \"JP Morgan\", \"Sector\": \"Banking\", \"Year\": 2020, \"BrandValue\": 4.35843}, {\"Brand\": \"Lowe's\", \"Sector\": \"Retail\", \"Year\": 2020, \"BrandValue\": 4.393698}, {\"Brand\": \"Mastercard\", \"Sector\": \"Commercial Services\", \"Year\": 2020, \"BrandValue\": 4.297498}, {\"Brand\": \"Microsoft\", \"Sector\": \"Tech\", \"Year\": 2020, \"BrandValue\": 5.068453}, {\"Brand\": \"Netflix\", \"Sector\": \"Media\", \"Year\": 2020, \"BrandValue\": 4.360688}, {\"Brand\": \"Nike\", \"Sector\": \"Apparel\", \"Year\": 2020, \"BrandValue\": 4.541479}, {\"Brand\": \"Oracle\", \"Sector\": \"Tech\", \"Year\": 2020, \"BrandValue\": 4.372728}, {\"Brand\": \"PayPal\", \"Sector\": \"Commercial Services\", \"Year\": 2020, \"BrandValue\": 4.198602}, {\"Brand\": \"Pepsi\", \"Sector\": \"Non Alcoholic Drinks\", \"Year\": 2020, \"BrandValue\": 4.276967}, {\"Brand\": \"PWC\", \"Sector\": \"Commercial Services\", \"Year\": 2020, \"BrandValue\": 4.394592}, {\"Brand\": \"Starbucks\", \"Sector\": \"Restaurants\", \"Year\": 2020, \"BrandValue\": 4.613239}, {\"Brand\": \"Target\", \"Sector\": \"Retail\", \"Year\": 2020, \"BrandValue\": 4.200659}, {\"Brand\": \"Uber\", \"Sector\": \"Logistics\", \"Year\": 2020, \"BrandValue\": 4.184606}, {\"Brand\": \"UnitedHealthcare\", \"Sector\": \"Healthcare\", \"Year\": 2020, \"BrandValue\": 4.452155}, {\"Brand\": \"UPS\", \"Sector\": \"Logistics\", \"Year\": 2020, \"BrandValue\": 4.469557}, {\"Brand\": \"Verizon\", \"Sector\": \"Telecoms\", \"Year\": 2020, \"BrandValue\": 4.804085}, {\"Brand\": \"VISA\", \"Sector\": \"Commercial Services\", \"Year\": 2020, \"BrandValue\": 4.429041}, {\"Brand\": \"Walgreens\", \"Sector\": \"Retail\", \"Year\": 2020, \"BrandValue\": 4.172369}, {\"Brand\": \"Walmart\", \"Sector\": \"Retail\", \"Year\": 2020, \"BrandValue\": 4.889414}, {\"Brand\": \"Wells Fargo\", \"Sector\": \"Banking\", \"Year\": 2020, \"BrandValue\": 4.611522}, {\"Brand\": \"Xfinity\", \"Sector\": \"Telecoms\", \"Year\": 2020, \"BrandValue\": 4.459815}, {\"Brand\": \"YouTube\", \"Sector\": \"Media\", \"Year\": 2020, \"BrandValue\": 4.213491}, {\"Brand\": \"accenture\", \"Sector\": \"IT Services\", \"Year\": 2019, \"BrandValue\": 4.419824}, {\"Brand\": \"Amazon\", \"Sector\": \"Retail\", \"Year\": 2019, \"BrandValue\": 5.273938}, {\"Brand\": \"Apple\", \"Sector\": \"Tech\", \"Year\": 2019, \"BrandValue\": 5.186487}, {\"Brand\": \"AT&T\", \"Sector\": \"Telecoms\", \"Year\": 2019, \"BrandValue\": 4.939544}, {\"Brand\": \"Bank of America\", \"Sector\": \"Banking\", \"Year\": 2019, \"BrandValue\": 4.564512}, {\"Brand\": \"Chase\", \"Sector\": \"Banking\", \"Year\": 2019, \"BrandValue\": 4.559488}, {\"Brand\": \"Cisco\", \"Sector\": \"Tech\", \"Year\": 2019, \"BrandValue\": 4.337978}, {\"Brand\": \"Citi\", \"Sector\": \"Banking\", \"Year\": 2019, \"BrandValue\": 4.561185}, {\"Brand\": \"Coca-Cola\", \"Sector\": \"Non Alcoholic Drinks\", \"Year\": 2019, \"BrandValue\": 4.558565}, {\"Brand\": \"Costco\", \"Sector\": \"Retail\", \"Year\": 2019, \"BrandValue\": 4.233377}, {\"Brand\": \"CVS\", \"Sector\": \"Retail\", \"Year\": 2019, \"BrandValue\": 4.327441}, {\"Brand\": \"Dell\", \"Sector\": \"Tech\", \"Year\": 2019, \"BrandValue\": 4.359076}, {\"Brand\": \"Deloitte\", \"Sector\": \"Commercial Services\", \"Year\": 2019, \"BrandValue\": 4.471776}, {\"Brand\": \"Facebook\", \"Sector\": \"Media\", \"Year\": 2019, \"BrandValue\": 4.920134}, {\"Brand\": \"FedEx\", \"Sector\": \"Logistics\", \"Year\": 2019, \"BrandValue\": 4.384389}, {\"Brand\": \"Ford\", \"Sector\": \"Automobiles\", \"Year\": 2019, \"BrandValue\": 4.273511}, {\"Brand\": \"General Electric\", \"Sector\": \"Engineering & Construction\", \"Year\": 2019, \"BrandValue\": 4.451218}, {\"Brand\": \"Google\", \"Sector\": \"Tech\", \"Year\": 2019, \"BrandValue\": 5.154591}, {\"Brand\": \"Home Depot\", \"Sector\": \"Retail\", \"Year\": 2019, \"BrandValue\": 4.672615}, {\"Brand\": \"IBM\", \"Sector\": \"Tech\", \"Year\": 2019, \"BrandValue\": 4.516588}, {\"Brand\": \"Intel\", \"Sector\": \"Tech\", \"Year\": 2019, \"BrandValue\": 4.464087}, {\"Brand\": \"JP Morgan\", \"Sector\": \"Banking\", \"Year\": 2019, \"BrandValue\": 4.296599}, {\"Brand\": \"Lowe's\", \"Sector\": \"Retail\", \"Year\": 2019, \"BrandValue\": 4.379088}, {\"Brand\": \"Mastercard\", \"Sector\": \"Commercial Services\", \"Year\": 2019, \"BrandValue\": 4.262285}, {\"Brand\": \"Microsoft\", \"Sector\": \"Tech\", \"Year\": 2019, \"BrandValue\": 5.077713}, {\"Brand\": \"Netflix\", \"Sector\": \"Media\", \"Year\": 2019, \"BrandValue\": 4.325557}, {\"Brand\": \"Nike\", \"Sector\": \"Apparel\", \"Year\": 2019, \"BrandValue\": 4.510826}, {\"Brand\": \"Oracle\", \"Sector\": \"Tech\", \"Year\": 2019, \"BrandValue\": 4.402726}, {\"Brand\": \"PayPal\", \"Sector\": \"Commercial Services\", \"Year\": 2019, \"BrandValue\": 4.117006}, {\"Brand\": \"Pepsi\", \"Sector\": \"Non Alcoholic Drinks\", \"Year\": 2019, \"BrandValue\": 4.267641}, {\"Brand\": \"PWC\", \"Sector\": \"Commercial Services\", \"Year\": 2019, \"BrandValue\": 4.396077}, {\"Brand\": \"Starbucks\", \"Sector\": \"Restaurants\", \"Year\": 2019, \"BrandValue\": 4.594039}, {\"Brand\": \"Target\", \"Sector\": \"Retail\", \"Year\": 2019, \"BrandValue\": 4.217036}, {\"Brand\": \"Uber\", \"Sector\": \"Logistics\", \"Year\": 2019, \"BrandValue\": 4.352337}, {\"Brand\": \"UnitedHealthcare\", \"Sector\": \"Healthcare\", \"Year\": 2019, \"BrandValue\": 4.485395}, {\"Brand\": \"UPS\", \"Sector\": \"Logistics\", \"Year\": 2019, \"BrandValue\": 4.466868}, {\"Brand\": \"Verizon\", \"Sector\": \"Telecoms\", \"Year\": 2019, \"BrandValue\": 4.852199}, {\"Brand\": \"VISA\", \"Sector\": \"Commercial Services\", \"Year\": 2019, \"BrandValue\": 4.442166}, {\"Brand\": \"Walgreens\", \"Sector\": \"Retail\", \"Year\": 2019, \"BrandValue\": 4.202216}, {\"Brand\": \"Walmart\", \"Sector\": \"Retail\", \"Year\": 2019, \"BrandValue\": 4.831659}, {\"Brand\": \"Wells Fargo\", \"Sector\": \"Banking\", \"Year\": 2019, \"BrandValue\": 4.601495}, {\"Brand\": \"Xfinity\", \"Sector\": \"Telecoms\", \"Year\": 2019, \"BrandValue\": 4.432937}, {\"Brand\": \"YouTube\", \"Sector\": \"Media\", \"Year\": 2019, \"BrandValue\": 4.578031}, {\"Brand\": \"accenture\", \"Sector\": \"IT Services\", \"Year\": 2018, \"BrandValue\": 4.225439}, {\"Brand\": \"Amazon\", \"Sector\": \"Retail\", \"Year\": 2018, \"BrandValue\": 5.178433}, {\"Brand\": \"Apple\", \"Sector\": \"Tech\", \"Year\": 2018, \"BrandValue\": 5.165277}, {\"Brand\": \"AT&T\", \"Sector\": \"Telecoms\", \"Year\": 2018, \"BrandValue\": 4.916043}, {\"Brand\": \"Bank of America\", \"Sector\": \"Banking\", \"Year\": 2018, \"BrandValue\": 4.522301}, {\"Brand\": \"Chase\", \"Sector\": \"Banking\", \"Year\": 2018, \"BrandValue\": 4.589302}, {\"Brand\": \"Cisco\", \"Sector\": \"Tech\", \"Year\": 2018, \"BrandValue\": 4.288048}, {\"Brand\": \"Citi\", \"Sector\": \"Banking\", \"Year\": 2018, \"BrandValue\": 4.488311}, {\"Brand\": \"Coca-Cola\", \"Sector\": \"Non Alcoholic Drinks\", \"Year\": 2018, \"BrandValue\": 4.482559}, {\"Brand\": \"Costco\", \"Sector\": \"Retail\", \"Year\": 2018, \"BrandValue\": 4.085719}, {\"Brand\": \"CVS\", \"Sector\": \"Retail\", \"Year\": 2018, \"BrandValue\": 4.31393}, {\"Brand\": \"Dell\", \"Sector\": \"Tech\", \"Year\": 2018, \"BrandValue\": 4.213677}, {\"Brand\": \"Deloitte\", \"Sector\": \"Commercial Services\", \"Year\": 2018, \"BrandValue\": 4.318856}, {\"Brand\": \"Facebook\", \"Sector\": \"Media\", \"Year\": 2018, \"BrandValue\": 4.883809}, {\"Brand\": \"FedEx\", \"Sector\": \"Logistics\", \"Year\": 2018, \"BrandValue\": 4.259355}, {\"Brand\": \"Ford\", \"Sector\": \"Automobiles\", \"Year\": 2018, \"BrandValue\": 4.259403}, {\"Brand\": \"General Electric\", \"Sector\": \"Engineering & Construction\", \"Year\": 2018, \"BrandValue\": 4.505218}, {\"Brand\": \"Google\", \"Sector\": \"Tech\", \"Year\": 2018, \"BrandValue\": 5.082466}, {\"Brand\": \"Home Depot\", \"Sector\": \"Retail\", \"Year\": 2018, \"BrandValue\": 4.528248}, {\"Brand\": \"IBM\", \"Sector\": \"Tech\", \"Year\": 2018, \"BrandValue\": 4.511589}, {\"Brand\": \"Intel\", \"Sector\": \"Tech\", \"Year\": 2018, \"BrandValue\": 4.343586}, {\"Brand\": \"JP Morgan\", \"Sector\": \"Banking\", \"Year\": 2018, \"BrandValue\": 4.246769}, {\"Brand\": \"Lowe's\", \"Sector\": \"Retail\", \"Year\": 2018, \"BrandValue\": 4.204771}, {\"Brand\": \"Mastercard\", \"Sector\": \"Commercial Services\", \"Year\": 2018, \"BrandValue\": 4.102914}, {\"Brand\": \"Microsoft\", \"Sector\": \"Tech\", \"Year\": 2018, \"BrandValue\": 4.909358}, {\"Brand\": \"Netflix\", \"Sector\": \"Media\", \"Year\": 2018, \"BrandValue\": 4.013806}, {\"Brand\": \"Nike\", \"Sector\": \"Apparel\", \"Year\": 2018, \"BrandValue\": 4.447623}, {\"Brand\": \"Oracle\", \"Sector\": \"Tech\", \"Year\": 2018, \"BrandValue\": 4.47179}, {\"Brand\": \"PayPal\", \"Sector\": \"Commercial Services\", \"Year\": 2018, \"BrandValue\": 3.955062}, {\"Brand\": \"Pepsi\", \"Sector\": \"Non Alcoholic Drinks\", \"Year\": 2018, \"BrandValue\": 4.301789}, {\"Brand\": \"PWC\", \"Sector\": \"Commercial Services\", \"Year\": 2018, \"BrandValue\": 4.348052}, {\"Brand\": \"Starbucks\", \"Sector\": \"Restaurants\", \"Year\": 2018, \"BrandValue\": 4.510826}, {\"Brand\": \"Target\", \"Sector\": \"Retail\", \"Year\": 2018, \"BrandValue\": 4.136054}, {\"Brand\": \"Uber\", \"Sector\": \"Logistics\", \"Year\": 2018, \"BrandValue\": 4.220866}, {\"Brand\": \"UnitedHealthcare\", \"Sector\": \"Healthcare\", \"Year\": 2018, \"BrandValue\": 4.26984}, {\"Brand\": \"UPS\", \"Sector\": \"Logistics\", \"Year\": 2018, \"BrandValue\": 4.342482}, {\"Brand\": \"Verizon\", \"Sector\": \"Telecoms\", \"Year\": 2018, \"BrandValue\": 4.798139}, {\"Brand\": \"VISA\", \"Sector\": \"Commercial Services\", \"Year\": 2018, \"BrandValue\": 4.314941}, {\"Brand\": \"Walgreens\", \"Sector\": \"Retail\", \"Year\": 2018, \"BrandValue\": 4.191619}, {\"Brand\": \"Walmart\", \"Sector\": \"Retail\", \"Year\": 2018, \"BrandValue\": 4.788734}, {\"Brand\": \"Wells Fargo\", \"Sector\": \"Banking\", \"Year\": 2018, \"BrandValue\": 4.644419}, {\"Brand\": \"Xfinity\", \"Sector\": \"Telecoms\", \"Year\": 2018, \"BrandValue\": 4.41699}, {\"Brand\": \"YouTube\", \"Sector\": \"Media\", \"Year\": 2018, \"BrandValue\": 4.413082}, {\"Brand\": \"accenture\", \"Sector\": \"IT Services\", \"Year\": 2017, \"BrandValue\": 4.242144}, {\"Brand\": \"Amazon\", \"Sector\": \"Retail\", \"Year\": 2017, \"BrandValue\": 5.026925}, {\"Brand\": \"Apple\", \"Sector\": \"Tech\", \"Year\": 2017, \"BrandValue\": 5.029956}, {\"Brand\": \"AT&T\", \"Sector\": \"Telecoms\", \"Year\": 2017, \"BrandValue\": 4.939599}, {\"Brand\": \"Bank of America\", \"Sector\": \"Banking\", \"Year\": 2017, \"BrandValue\": 4.481055}, {\"Brand\": \"Chase\", \"Sector\": \"Banking\", \"Year\": 2017, \"BrandValue\": 4.528106}, {\"Brand\": \"Cisco\", \"Sector\": \"Tech\", \"Year\": 2017, \"BrandValue\": 4.316683}, {\"Brand\": \"Citi\", \"Sector\": \"Banking\", \"Year\": 2017, \"BrandValue\": 4.442072}, {\"Brand\": \"Coca-Cola\", \"Sector\": \"Non Alcoholic Drinks\", \"Year\": 2017, \"BrandValue\": 4.503586}, {\"Brand\": \"Costco\", \"Sector\": \"Retail\", \"Year\": 2017, \"BrandValue\": 4.128884}, {\"Brand\": \"CVS\", \"Sector\": \"Retail\", \"Year\": 2017, \"BrandValue\": 4.367095}, {\"Brand\": \"Dell\", \"Sector\": \"Tech\", \"Year\": 2017, \"BrandValue\": 4.259737}, {\"Brand\": \"Deloitte\", \"Sector\": \"Commercial Services\", \"Year\": 2017, \"BrandValue\": 4.224688}, {\"Brand\": \"Facebook\", \"Sector\": \"Media\", \"Year\": 2017, \"BrandValue\": 4.792378}, {\"Brand\": \"FedEx\", \"Sector\": \"Logistics\", \"Year\": 2017, \"BrandValue\": 4.232793}, {\"Brand\": \"Ford\", \"Sector\": \"Automobiles\", \"Year\": 2017, \"BrandValue\": 4.350868}, {\"Brand\": \"General Electric\", \"Sector\": \"Engineering & Construction\", \"Year\": 2017, \"BrandValue\": 4.547996}, {\"Brand\": \"Google\", \"Sector\": \"Tech\", \"Year\": 2017, \"BrandValue\": 5.039295}, {\"Brand\": \"Home Depot\", \"Sector\": \"Retail\", \"Year\": 2017, \"BrandValue\": 4.480237}, {\"Brand\": \"IBM\", \"Sector\": \"Tech\", \"Year\": 2017, \"BrandValue\": 4.557652}, {\"Brand\": \"Intel\", \"Sector\": \"Tech\", \"Year\": 2017, \"BrandValue\": 4.30897}, {\"Brand\": \"JP Morgan\", \"Sector\": \"Banking\", \"Year\": 2017, \"BrandValue\": 4.196176}, {\"Brand\": \"Lowe's\", \"Sector\": \"Retail\", \"Year\": 2017, \"BrandValue\": 4.1442}, {\"Brand\": \"Mastercard\", \"Sector\": \"Commercial Services\", \"Year\": 2017, \"BrandValue\": 4.088349}, {\"Brand\": \"Microsoft\", \"Sector\": \"Tech\", \"Year\": 2017, \"BrandValue\": 4.590686}, {\"Brand\": \"Netflix\", \"Sector\": \"Media\", \"Year\": 2017, \"BrandValue\": 4.882325}, {\"Brand\": \"Nike\", \"Sector\": \"Apparel\", \"Year\": 2017, \"BrandValue\": 4.501908}, {\"Brand\": \"Oracle\", \"Sector\": \"Tech\", \"Year\": 2017, \"BrandValue\": 4.412931}, {\"Brand\": \"PayPal\", \"Sector\": \"Commercial Services\", \"Year\": 2017, \"BrandValue\": 4.118033}, {\"Brand\": \"Pepsi\", \"Sector\": \"Non Alcoholic Drinks\", \"Year\": 2017, \"BrandValue\": 4.261952}, {\"Brand\": \"PWC\", \"Sector\": \"Commercial Services\", \"Year\": 2017, \"BrandValue\": 4.267406}, {\"Brand\": \"Starbucks\", \"Sector\": \"Restaurants\", \"Year\": 2017, \"BrandValue\": 4.408494}, {\"Brand\": \"Target\", \"Sector\": \"Retail\", \"Year\": 2017, \"BrandValue\": 4.230857}, {\"Brand\": \"Uber\", \"Sector\": \"Logistics\", \"Year\": 2017, \"BrandValue\": 4.164234}, {\"Brand\": \"UnitedHealthcare\", \"Sector\": \"Healthcare\", \"Year\": 2017, \"BrandValue\": 4.126424}, {\"Brand\": \"UPS\", \"Sector\": \"Logistics\", \"Year\": 2017, \"BrandValue\": 4.344942}, {\"Brand\": \"Verizon\", \"Sector\": \"Telecoms\", \"Year\": 2017, \"BrandValue\": 4.818721}, {\"Brand\": \"VISA\", \"Sector\": \"Commercial Services\", \"Year\": 2017, \"BrandValue\": 4.31513}, {\"Brand\": \"Walgreens\", \"Sector\": \"Retail\", \"Year\": 2017, \"BrandValue\": 4.203278}, {\"Brand\": \"Walmart\", \"Sector\": \"Retail\", \"Year\": 2017, \"BrandValue\": 4.793867}, {\"Brand\": \"Wells Fargo\", \"Sector\": \"Banking\", \"Year\": 2017, \"BrandValue\": 4.619281}, {\"Brand\": \"Xfinity\", \"Sector\": \"Telecoms\", \"Year\": 2017, \"BrandValue\": 4.41797}, {\"Brand\": \"YouTube\", \"Sector\": \"Media\", \"Year\": 2017, \"BrandValue\": 4.08361}, {\"Brand\": \"accenture\", \"Sector\": \"IT Services\", \"Year\": 2016, \"BrandValue\": 4.103359}, {\"Brand\": \"Amazon\", \"Sector\": \"Retail\", \"Year\": 2016, \"BrandValue\": 4.842871}, {\"Brand\": \"Apple\", \"Sector\": \"Tech\", \"Year\": 2016, \"BrandValue\": 5.164109}, {\"Brand\": \"AT&T\", \"Sector\": \"Telecoms\", \"Year\": 2016, \"BrandValue\": 4.777456}, {\"Brand\": \"Bank of America\", \"Sector\": \"Banking\", \"Year\": 2016, \"BrandValue\": 4.430204}, {\"Brand\": \"Chase\", \"Sector\": \"Banking\", \"Year\": 2016, \"BrandValue\": 4.485764}, {\"Brand\": \"Cisco\", \"Sector\": \"Tech\", \"Year\": 2016, \"BrandValue\": 4.282441}, {\"Brand\": \"Citi\", \"Sector\": \"Banking\", \"Year\": 2016, \"BrandValue\": 4.415491}, {\"Brand\": \"Coca-Cola\", \"Sector\": \"Non Alcoholic Drinks\", \"Year\": 2016, \"BrandValue\": 4.533772}, {\"Brand\": \"Costco\", \"Sector\": \"Retail\", \"Year\": 2016, \"BrandValue\": 4.073608}, {\"Brand\": \"CVS\", \"Sector\": \"Retail\", \"Year\": 2016, \"BrandValue\": 4.359532}, {\"Brand\": \"Dell\", \"Sector\": \"Tech\", \"Year\": 2016, \"BrandValue\": 4.164145}, {\"Brand\": \"Deloitte\", \"Sector\": \"Commercial Services\", \"Year\": 2016, \"BrandValue\": 4.208441}, {\"Brand\": \"Facebook\", \"Sector\": \"Media\", \"Year\": 2016, \"BrandValue\": 4.531504}, {\"Brand\": \"FedEx\", \"Sector\": \"Logistics\", \"Year\": 2016, \"BrandValue\": 4.116575}, {\"Brand\": \"Ford\", \"Sector\": \"Automobiles\", \"Year\": 2016, \"BrandValue\": 4.296029}, {\"Brand\": \"General Electric\", \"Sector\": \"Engineering & Construction\", \"Year\": 2016, \"BrandValue\": 4.465546}, {\"Brand\": \"Google\", \"Sector\": \"Tech\", \"Year\": 2016, \"BrandValue\": 4.945336}, {\"Brand\": \"Home Depot\", \"Sector\": \"Retail\", \"Year\": 2016, \"BrandValue\": 4.459362}, {\"Brand\": \"IBM\", \"Sector\": \"Tech\", \"Year\": 2016, \"BrandValue\": 4.502236}, {\"Brand\": \"Intel\", \"Sector\": \"Tech\", \"Year\": 2016, \"BrandValue\": 4.358791}, {\"Brand\": \"JP Morgan\", \"Sector\": \"Banking\", \"Year\": 2016, \"BrandValue\": 4.112136}, {\"Brand\": \"Lowe's\", \"Sector\": \"Retail\", \"Year\": 2016, \"BrandValue\": 4.104385}, {\"Brand\": \"Mastercard\", \"Sector\": \"Commercial Services\", \"Year\": 2016, \"BrandValue\": 3.922674}, {\"Brand\": \"Microsoft\", \"Sector\": \"Tech\", \"Year\": 2016, \"BrandValue\": 4.632832}, {\"Brand\": \"Netflix\", \"Sector\": \"Media\", \"Year\": 2016, \"BrandValue\": 4.827744}, {\"Brand\": \"Nike\", \"Sector\": \"Apparel\", \"Year\": 2016, \"BrandValue\": 4.447793}, {\"Brand\": \"Oracle\", \"Sector\": \"Tech\", \"Year\": 2016, \"BrandValue\": 4.345099}, {\"Brand\": \"PayPal\", \"Sector\": \"Commercial Services\", \"Year\": 2016, \"BrandValue\": 3.977358}, {\"Brand\": \"Pepsi\", \"Sector\": \"Non Alcoholic Drinks\", \"Year\": 2016, \"BrandValue\": 4.27754}, {\"Brand\": \"PWC\", \"Sector\": \"Commercial Services\", \"Year\": 2016, \"BrandValue\": 4.268789}, {\"Brand\": \"Starbucks\", \"Sector\": \"Restaurants\", \"Year\": 2016, \"BrandValue\": 4.365207}, {\"Brand\": \"Target\", \"Sector\": \"Retail\", \"Year\": 2016, \"BrandValue\": 4.18557}, {\"Brand\": \"Uber\", \"Sector\": \"Logistics\", \"Year\": 2016, \"BrandValue\": 4.0423}, {\"Brand\": \"UnitedHealthcare\", \"Sector\": \"Healthcare\", \"Year\": 2016, \"BrandValue\": 4.174176}, {\"Brand\": \"UPS\", \"Sector\": \"Logistics\", \"Year\": 2016, \"BrandValue\": 4.29148}, {\"Brand\": \"Verizon\", \"Sector\": \"Telecoms\", \"Year\": 2016, \"BrandValue\": 4.800139}, {\"Brand\": \"VISA\", \"Sector\": \"Commercial Services\", \"Year\": 2016, \"BrandValue\": 4.056638}, {\"Brand\": \"Walgreens\", \"Sector\": \"Retail\", \"Year\": 2016, \"BrandValue\": 4.155791}, {\"Brand\": \"Walmart\", \"Sector\": \"Retail\", \"Year\": 2016, \"BrandValue\": 4.729626}, {\"Brand\": \"Wells Fargo\", \"Sector\": \"Banking\", \"Year\": 2016, \"BrandValue\": 4.645127}, {\"Brand\": \"Xfinity\", \"Sector\": \"Telecoms\", \"Year\": 2016, \"BrandValue\": 4.383564}, {\"Brand\": \"YouTube\", \"Sector\": \"Media\", \"Year\": 2016, \"BrandValue\": 3.985606}]}}, {\"mode\": \"vega-lite\"});\n",
       "</script>"
      ],
      "text/plain": [
       "alt.Chart(...)"
      ]
     },
     "execution_count": 275,
     "metadata": {},
     "output_type": "execute_result"
    }
   ],
   "source": [
    "select_year = alt.selection_point(\n",
    "    name= 'select', fields=['Year'],\n",
    "    value= 2016,\n",
    "    bind= alt.binding_range(min=2016,max=2021,step=1)\n",
    ")\n",
    "alt.Chart(df).mark_circle().encode(\n",
    "    alt.X('BrandValue', scale=alt.Scale(domain=[3,7])),\n",
    "    alt.Y('Brand',sort=alt.EncodingSortField(\n",
    "        op='average', field='BrandValue', order='descending')),\n",
    ").properties(width=200,height=600).add_params(select_year).transform_filter(select_year)"
   ]
  },
  {
   "cell_type": "code",
   "execution_count": 283,
   "id": "9c38cd4e-907a-4c7b-ab23-1a68a66b10f8",
   "metadata": {},
   "outputs": [
    {
     "data": {
      "text/html": [
       "\n",
       "<style>\n",
       "form.vega-bindings {\n",
       "  position: absolute;\n",
       "  right: 0px;\n",
       "  top: 0px;\n",
       "}\n",
       "</style>\n"
      ],
      "text/plain": [
       "<IPython.core.display.HTML object>"
      ]
     },
     "metadata": {},
     "output_type": "display_data"
    },
    {
     "data": {
      "text/html": [
       "\n",
       "<style>\n",
       "  #altair-viz-566b9eb5e4d64b0e9bc725b3a43af154.vega-embed {\n",
       "    width: 100%;\n",
       "    display: flex;\n",
       "  }\n",
       "\n",
       "  #altair-viz-566b9eb5e4d64b0e9bc725b3a43af154.vega-embed details,\n",
       "  #altair-viz-566b9eb5e4d64b0e9bc725b3a43af154.vega-embed details summary {\n",
       "    position: relative;\n",
       "  }\n",
       "</style>\n",
       "<div id=\"altair-viz-566b9eb5e4d64b0e9bc725b3a43af154\"></div>\n",
       "<script type=\"text/javascript\">\n",
       "  var VEGA_DEBUG = (typeof VEGA_DEBUG == \"undefined\") ? {} : VEGA_DEBUG;\n",
       "  (function(spec, embedOpt){\n",
       "    let outputDiv = document.currentScript.previousElementSibling;\n",
       "    if (outputDiv.id !== \"altair-viz-566b9eb5e4d64b0e9bc725b3a43af154\") {\n",
       "      outputDiv = document.getElementById(\"altair-viz-566b9eb5e4d64b0e9bc725b3a43af154\");\n",
       "    }\n",
       "    const paths = {\n",
       "      \"vega\": \"https://cdn.jsdelivr.net/npm/vega@5?noext\",\n",
       "      \"vega-lib\": \"https://cdn.jsdelivr.net/npm/vega-lib?noext\",\n",
       "      \"vega-lite\": \"https://cdn.jsdelivr.net/npm/vega-lite@5.20.1?noext\",\n",
       "      \"vega-embed\": \"https://cdn.jsdelivr.net/npm/vega-embed@6?noext\",\n",
       "    };\n",
       "\n",
       "    function maybeLoadScript(lib, version) {\n",
       "      var key = `${lib.replace(\"-\", \"\")}_version`;\n",
       "      return (VEGA_DEBUG[key] == version) ?\n",
       "        Promise.resolve(paths[lib]) :\n",
       "        new Promise(function(resolve, reject) {\n",
       "          var s = document.createElement('script');\n",
       "          document.getElementsByTagName(\"head\")[0].appendChild(s);\n",
       "          s.async = true;\n",
       "          s.onload = () => {\n",
       "            VEGA_DEBUG[key] = version;\n",
       "            return resolve(paths[lib]);\n",
       "          };\n",
       "          s.onerror = () => reject(`Error loading script: ${paths[lib]}`);\n",
       "          s.src = paths[lib];\n",
       "        });\n",
       "    }\n",
       "\n",
       "    function showError(err) {\n",
       "      outputDiv.innerHTML = `<div class=\"error\" style=\"color:red;\">${err}</div>`;\n",
       "      throw err;\n",
       "    }\n",
       "\n",
       "    function displayChart(vegaEmbed) {\n",
       "      vegaEmbed(outputDiv, spec, embedOpt)\n",
       "        .catch(err => showError(`Javascript Error: ${err.message}<br>This usually means there's a typo in your chart specification. See the javascript console for the full traceback.`));\n",
       "    }\n",
       "\n",
       "    if(typeof define === \"function\" && define.amd) {\n",
       "      requirejs.config({paths});\n",
       "      require([\"vega-embed\"], displayChart, err => showError(`Error loading script: ${err.message}`));\n",
       "    } else {\n",
       "      maybeLoadScript(\"vega\", \"5\")\n",
       "        .then(() => maybeLoadScript(\"vega-lite\", \"5.20.1\"))\n",
       "        .then(() => maybeLoadScript(\"vega-embed\", \"6\"))\n",
       "        .catch(showError)\n",
       "        .then(() => displayChart(vegaEmbed));\n",
       "    }\n",
       "  })({\"config\": {\"view\": {\"continuousWidth\": 300, \"continuousHeight\": 300}}, \"data\": {\"name\": \"data-2706b314920a58e4a85904afd4e53f52\"}, \"mark\": {\"type\": \"circle\"}, \"encoding\": {\"x\": {\"field\": \"BrandValue\", \"scale\": {\"domain\": [3, 7]}, \"type\": \"quantitative\"}, \"y\": {\"field\": \"Brand\", \"sort\": {\"field\": \"BrandValue\", \"op\": \"average\", \"order\": \"descending\"}, \"type\": \"nominal\"}}, \"height\": 600, \"params\": [{\"name\": \"select\", \"select\": {\"type\": \"point\", \"fields\": [\"Year\"]}, \"bind\": {\"input\": \"range\", \"max\": 2021, \"min\": 2016, \"step\": 1}, \"value\": 2016}], \"transform\": [{\"filter\": {\"param\": \"select\"}}], \"width\": 200, \"$schema\": \"https://vega.github.io/schema/vega-lite/v5.20.1.json\", \"datasets\": {\"data-2706b314920a58e4a85904afd4e53f52\": [{\"Brand\": \"accenture\", \"Sector\": \"IT Services\", \"Year\": 2021, \"BrandValue\": 4.415441}, {\"Brand\": \"Amazon\", \"Sector\": \"Retail\", \"Year\": 2021, \"BrandValue\": 5.405155}, {\"Brand\": \"Apple\", \"Sector\": \"Tech\", \"Year\": 2021, \"BrandValue\": 5.420575}, {\"Brand\": \"AT&T\", \"Sector\": \"Telecoms\", \"Year\": 2021, \"BrandValue\": 4.710726}, {\"Brand\": \"Bank of America\", \"Sector\": \"Banking\", \"Year\": 2021, \"BrandValue\": 4.515702}, {\"Brand\": \"Chase\", \"Sector\": \"Banking\", \"Year\": 2021, \"BrandValue\": 4.460131}, {\"Brand\": \"Cisco\", \"Sector\": \"Tech\", \"Year\": 2021, \"BrandValue\": 4.303671}, {\"Brand\": \"Citi\", \"Sector\": \"Banking\", \"Year\": 2021, \"BrandValue\": 4.507856}, {\"Brand\": \"Coca-Cola\", \"Sector\": \"Non Alcoholic Drinks\", \"Year\": 2021, \"BrandValue\": 4.520693}, {\"Brand\": \"Costco\", \"Sector\": \"Retail\", \"Year\": 2021, \"BrandValue\": 4.460717}, {\"Brand\": \"CVS\", \"Sector\": \"Retail\", \"Year\": 2021, \"BrandValue\": 4.43043}, {\"Brand\": \"Dell\", \"Sector\": \"Tech\", \"Year\": 2021, \"BrandValue\": 4.265455}, {\"Brand\": \"Deloitte\", \"Sector\": \"Commercial Services\", \"Year\": 2021, \"BrandValue\": 4.425893}, {\"Brand\": \"Facebook\", \"Sector\": \"Media\", \"Year\": 2021, \"BrandValue\": 4.91103}, {\"Brand\": \"FedEx\", \"Sector\": \"Logistics\", \"Year\": 2021, \"BrandValue\": 4.371788}, {\"Brand\": \"Ford\", \"Sector\": \"Automobiles\", \"Year\": 2021, \"BrandValue\": 4.355566}, {\"Brand\": \"General Electric\", \"Sector\": \"Engineering & Construction\", \"Year\": 2021, \"BrandValue\": 4.255948}, {\"Brand\": \"Google\", \"Sector\": \"Tech\", \"Year\": 2021, \"BrandValue\": 5.281522}, {\"Brand\": \"Home Depot\", \"Sector\": \"Retail\", \"Year\": 2021, \"BrandValue\": 4.723595}, {\"Brand\": \"IBM\", \"Sector\": \"Tech\", \"Year\": 2021, \"BrandValue\": 4.438194}, {\"Brand\": \"Intel\", \"Sector\": \"Tech\", \"Year\": 2021, \"BrandValue\": 4.502659}, {\"Brand\": \"JP Morgan\", \"Sector\": \"Banking\", \"Year\": 2021, \"BrandValue\": 4.372267}, {\"Brand\": \"Lowe's\", \"Sector\": \"Retail\", \"Year\": 2021, \"BrandValue\": 4.482531}, {\"Brand\": \"Mastercard\", \"Sector\": \"Commercial Services\", \"Year\": 2021, \"BrandValue\": 4.28142}, {\"Brand\": \"Microsoft\", \"Sector\": \"Tech\", \"Year\": 2021, \"BrandValue\": 5.147475}, {\"Brand\": \"Netflix\", \"Sector\": \"Media\", \"Year\": 2021, \"BrandValue\": 4.396949}, {\"Brand\": \"Nike\", \"Sector\": \"Apparel\", \"Year\": 2021, \"BrandValue\": 4.483487}, {\"Brand\": \"Oracle\", \"Sector\": \"Tech\", \"Year\": 2021, \"BrandValue\": 4.417588}, {\"Brand\": \"PayPal\", \"Sector\": \"Commercial Services\", \"Year\": 2021, \"BrandValue\": 4.214897}, {\"Brand\": \"Pepsi\", \"Sector\": \"Non Alcoholic Drinks\", \"Year\": 2021, \"BrandValue\": 4.263991}, {\"Brand\": \"PWC\", \"Sector\": \"Commercial Services\", \"Year\": 2021, \"BrandValue\": 4.346979}, {\"Brand\": \"Starbucks\", \"Sector\": \"Restaurants\", \"Year\": 2021, \"BrandValue\": 4.584783}, {\"Brand\": \"Target\", \"Sector\": \"Retail\", \"Year\": 2021, \"BrandValue\": 4.315656}, {\"Brand\": \"Uber\", \"Sector\": \"Logistics\", \"Year\": 2021, \"BrandValue\": 4.311288}, {\"Brand\": \"UnitedHealthcare\", \"Sector\": \"Healthcare\", \"Year\": 2021, \"BrandValue\": 4.43629}, {\"Brand\": \"UPS\", \"Sector\": \"Logistics\", \"Year\": 2021, \"BrandValue\": 4.477931}, {\"Brand\": \"Verizon\", \"Sector\": \"Telecoms\", \"Year\": 2021, \"BrandValue\": 4.838156}, {\"Brand\": \"VISA\", \"Sector\": \"Commercial Services\", \"Year\": 2021, \"BrandValue\": 4.423377}, {\"Brand\": \"Walgreens\", \"Sector\": \"Retail\", \"Year\": 2021, \"BrandValue\": 4.206745}, {\"Brand\": \"Walmart\", \"Sector\": \"Retail\", \"Year\": 2021, \"BrandValue\": 4.969346}, {\"Brand\": \"Wells Fargo\", \"Sector\": \"Banking\", \"Year\": 2021, \"BrandValue\": 4.502495}, {\"Brand\": \"Xfinity\", \"Sector\": \"Telecoms\", \"Year\": 2021, \"BrandValue\": 4.401866}, {\"Brand\": \"YouTube\", \"Sector\": \"Media\", \"Year\": 2021, \"BrandValue\": 4.237695}, {\"Brand\": \"accenture\", \"Sector\": \"IT Services\", \"Year\": 2020, \"BrandValue\": 4.403018}, {\"Brand\": \"Amazon\", \"Sector\": \"Retail\", \"Year\": 2020, \"BrandValue\": 5.343981}, {\"Brand\": \"Apple\", \"Sector\": \"Tech\", \"Year\": 2020, \"BrandValue\": 5.147751}, {\"Brand\": \"AT&T\", \"Sector\": \"Telecoms\", \"Year\": 2020, \"BrandValue\": 4.77161}, {\"Brand\": \"Bank of America\", \"Sector\": \"Banking\", \"Year\": 2020, \"BrandValue\": 4.548525}, {\"Brand\": \"Chase\", \"Sector\": \"Banking\", \"Year\": 2020, \"BrandValue\": 4.49485}, {\"Brand\": \"Cisco\", \"Sector\": \"Tech\", \"Year\": 2020, \"BrandValue\": 4.367766}, {\"Brand\": \"Citi\", \"Sector\": \"Banking\", \"Year\": 2020, \"BrandValue\": 4.520235}, {\"Brand\": \"Coca-Cola\", \"Sector\": \"Non Alcoholic Drinks\", \"Year\": 2020, \"BrandValue\": 4.57904}, {\"Brand\": \"Costco\", \"Sector\": \"Retail\", \"Year\": 2020, \"BrandValue\": 4.354185}, {\"Brand\": \"CVS\", \"Sector\": \"Retail\", \"Year\": 2020, \"BrandValue\": 4.365151}, {\"Brand\": \"Dell\", \"Sector\": \"Tech\", \"Year\": 2020, \"BrandValue\": 4.246252}, {\"Brand\": \"Deloitte\", \"Sector\": \"Commercial Services\", \"Year\": 2020, \"BrandValue\": 4.511496}, {\"Brand\": \"Facebook\", \"Sector\": \"Media\", \"Year\": 2020, \"BrandValue\": 4.902025}, {\"Brand\": \"FedEx\", \"Sector\": \"Logistics\", \"Year\": 2020, \"BrandValue\": 4.361539}, {\"Brand\": \"Ford\", \"Sector\": \"Automobiles\", \"Year\": 2020, \"BrandValue\": 4.267524}, {\"Brand\": \"General Electric\", \"Sector\": \"Engineering & Construction\", \"Year\": 2020, \"BrandValue\": 4.383905}, {\"Brand\": \"Google\", \"Sector\": \"Tech\", \"Year\": 2020, \"BrandValue\": 5.275339}, {\"Brand\": \"Home Depot\", \"Sector\": \"Retail\", \"Year\": 2020, \"BrandValue\": 4.70336}, {\"Brand\": \"IBM\", \"Sector\": \"Tech\", \"Year\": 2020, \"BrandValue\": 4.5232}, {\"Brand\": \"Intel\", \"Sector\": \"Tech\", \"Year\": 2020, \"BrandValue\": 4.439443}, {\"Brand\": \"JP Morgan\", \"Sector\": \"Banking\", \"Year\": 2020, \"BrandValue\": 4.35843}, {\"Brand\": \"Lowe's\", \"Sector\": \"Retail\", \"Year\": 2020, \"BrandValue\": 4.393698}, {\"Brand\": \"Mastercard\", \"Sector\": \"Commercial Services\", \"Year\": 2020, \"BrandValue\": 4.297498}, {\"Brand\": \"Microsoft\", \"Sector\": \"Tech\", \"Year\": 2020, \"BrandValue\": 5.068453}, {\"Brand\": \"Netflix\", \"Sector\": \"Media\", \"Year\": 2020, \"BrandValue\": 4.360688}, {\"Brand\": \"Nike\", \"Sector\": \"Apparel\", \"Year\": 2020, \"BrandValue\": 4.541479}, {\"Brand\": \"Oracle\", \"Sector\": \"Tech\", \"Year\": 2020, \"BrandValue\": 4.372728}, {\"Brand\": \"PayPal\", \"Sector\": \"Commercial Services\", \"Year\": 2020, \"BrandValue\": 4.198602}, {\"Brand\": \"Pepsi\", \"Sector\": \"Non Alcoholic Drinks\", \"Year\": 2020, \"BrandValue\": 4.276967}, {\"Brand\": \"PWC\", \"Sector\": \"Commercial Services\", \"Year\": 2020, \"BrandValue\": 4.394592}, {\"Brand\": \"Starbucks\", \"Sector\": \"Restaurants\", \"Year\": 2020, \"BrandValue\": 4.613239}, {\"Brand\": \"Target\", \"Sector\": \"Retail\", \"Year\": 2020, \"BrandValue\": 4.200659}, {\"Brand\": \"Uber\", \"Sector\": \"Logistics\", \"Year\": 2020, \"BrandValue\": 4.184606}, {\"Brand\": \"UnitedHealthcare\", \"Sector\": \"Healthcare\", \"Year\": 2020, \"BrandValue\": 4.452155}, {\"Brand\": \"UPS\", \"Sector\": \"Logistics\", \"Year\": 2020, \"BrandValue\": 4.469557}, {\"Brand\": \"Verizon\", \"Sector\": \"Telecoms\", \"Year\": 2020, \"BrandValue\": 4.804085}, {\"Brand\": \"VISA\", \"Sector\": \"Commercial Services\", \"Year\": 2020, \"BrandValue\": 4.429041}, {\"Brand\": \"Walgreens\", \"Sector\": \"Retail\", \"Year\": 2020, \"BrandValue\": 4.172369}, {\"Brand\": \"Walmart\", \"Sector\": \"Retail\", \"Year\": 2020, \"BrandValue\": 4.889414}, {\"Brand\": \"Wells Fargo\", \"Sector\": \"Banking\", \"Year\": 2020, \"BrandValue\": 4.611522}, {\"Brand\": \"Xfinity\", \"Sector\": \"Telecoms\", \"Year\": 2020, \"BrandValue\": 4.459815}, {\"Brand\": \"YouTube\", \"Sector\": \"Media\", \"Year\": 2020, \"BrandValue\": 4.213491}, {\"Brand\": \"accenture\", \"Sector\": \"IT Services\", \"Year\": 2019, \"BrandValue\": 4.419824}, {\"Brand\": \"Amazon\", \"Sector\": \"Retail\", \"Year\": 2019, \"BrandValue\": 5.273938}, {\"Brand\": \"Apple\", \"Sector\": \"Tech\", \"Year\": 2019, \"BrandValue\": 5.186487}, {\"Brand\": \"AT&T\", \"Sector\": \"Telecoms\", \"Year\": 2019, \"BrandValue\": 4.939544}, {\"Brand\": \"Bank of America\", \"Sector\": \"Banking\", \"Year\": 2019, \"BrandValue\": 4.564512}, {\"Brand\": \"Chase\", \"Sector\": \"Banking\", \"Year\": 2019, \"BrandValue\": 4.559488}, {\"Brand\": \"Cisco\", \"Sector\": \"Tech\", \"Year\": 2019, \"BrandValue\": 4.337978}, {\"Brand\": \"Citi\", \"Sector\": \"Banking\", \"Year\": 2019, \"BrandValue\": 4.561185}, {\"Brand\": \"Coca-Cola\", \"Sector\": \"Non Alcoholic Drinks\", \"Year\": 2019, \"BrandValue\": 4.558565}, {\"Brand\": \"Costco\", \"Sector\": \"Retail\", \"Year\": 2019, \"BrandValue\": 4.233377}, {\"Brand\": \"CVS\", \"Sector\": \"Retail\", \"Year\": 2019, \"BrandValue\": 4.327441}, {\"Brand\": \"Dell\", \"Sector\": \"Tech\", \"Year\": 2019, \"BrandValue\": 4.359076}, {\"Brand\": \"Deloitte\", \"Sector\": \"Commercial Services\", \"Year\": 2019, \"BrandValue\": 4.471776}, {\"Brand\": \"Facebook\", \"Sector\": \"Media\", \"Year\": 2019, \"BrandValue\": 4.920134}, {\"Brand\": \"FedEx\", \"Sector\": \"Logistics\", \"Year\": 2019, \"BrandValue\": 4.384389}, {\"Brand\": \"Ford\", \"Sector\": \"Automobiles\", \"Year\": 2019, \"BrandValue\": 4.273511}, {\"Brand\": \"General Electric\", \"Sector\": \"Engineering & Construction\", \"Year\": 2019, \"BrandValue\": 4.451218}, {\"Brand\": \"Google\", \"Sector\": \"Tech\", \"Year\": 2019, \"BrandValue\": 5.154591}, {\"Brand\": \"Home Depot\", \"Sector\": \"Retail\", \"Year\": 2019, \"BrandValue\": 4.672615}, {\"Brand\": \"IBM\", \"Sector\": \"Tech\", \"Year\": 2019, \"BrandValue\": 4.516588}, {\"Brand\": \"Intel\", \"Sector\": \"Tech\", \"Year\": 2019, \"BrandValue\": 4.464087}, {\"Brand\": \"JP Morgan\", \"Sector\": \"Banking\", \"Year\": 2019, \"BrandValue\": 4.296599}, {\"Brand\": \"Lowe's\", \"Sector\": \"Retail\", \"Year\": 2019, \"BrandValue\": 4.379088}, {\"Brand\": \"Mastercard\", \"Sector\": \"Commercial Services\", \"Year\": 2019, \"BrandValue\": 4.262285}, {\"Brand\": \"Microsoft\", \"Sector\": \"Tech\", \"Year\": 2019, \"BrandValue\": 5.077713}, {\"Brand\": \"Netflix\", \"Sector\": \"Media\", \"Year\": 2019, \"BrandValue\": 4.325557}, {\"Brand\": \"Nike\", \"Sector\": \"Apparel\", \"Year\": 2019, \"BrandValue\": 4.510826}, {\"Brand\": \"Oracle\", \"Sector\": \"Tech\", \"Year\": 2019, \"BrandValue\": 4.402726}, {\"Brand\": \"PayPal\", \"Sector\": \"Commercial Services\", \"Year\": 2019, \"BrandValue\": 4.117006}, {\"Brand\": \"Pepsi\", \"Sector\": \"Non Alcoholic Drinks\", \"Year\": 2019, \"BrandValue\": 4.267641}, {\"Brand\": \"PWC\", \"Sector\": \"Commercial Services\", \"Year\": 2019, \"BrandValue\": 4.396077}, {\"Brand\": \"Starbucks\", \"Sector\": \"Restaurants\", \"Year\": 2019, \"BrandValue\": 4.594039}, {\"Brand\": \"Target\", \"Sector\": \"Retail\", \"Year\": 2019, \"BrandValue\": 4.217036}, {\"Brand\": \"Uber\", \"Sector\": \"Logistics\", \"Year\": 2019, \"BrandValue\": 4.352337}, {\"Brand\": \"UnitedHealthcare\", \"Sector\": \"Healthcare\", \"Year\": 2019, \"BrandValue\": 4.485395}, {\"Brand\": \"UPS\", \"Sector\": \"Logistics\", \"Year\": 2019, \"BrandValue\": 4.466868}, {\"Brand\": \"Verizon\", \"Sector\": \"Telecoms\", \"Year\": 2019, \"BrandValue\": 4.852199}, {\"Brand\": \"VISA\", \"Sector\": \"Commercial Services\", \"Year\": 2019, \"BrandValue\": 4.442166}, {\"Brand\": \"Walgreens\", \"Sector\": \"Retail\", \"Year\": 2019, \"BrandValue\": 4.202216}, {\"Brand\": \"Walmart\", \"Sector\": \"Retail\", \"Year\": 2019, \"BrandValue\": 4.831659}, {\"Brand\": \"Wells Fargo\", \"Sector\": \"Banking\", \"Year\": 2019, \"BrandValue\": 4.601495}, {\"Brand\": \"Xfinity\", \"Sector\": \"Telecoms\", \"Year\": 2019, \"BrandValue\": 4.432937}, {\"Brand\": \"YouTube\", \"Sector\": \"Media\", \"Year\": 2019, \"BrandValue\": 4.578031}, {\"Brand\": \"accenture\", \"Sector\": \"IT Services\", \"Year\": 2018, \"BrandValue\": 4.225439}, {\"Brand\": \"Amazon\", \"Sector\": \"Retail\", \"Year\": 2018, \"BrandValue\": 5.178433}, {\"Brand\": \"Apple\", \"Sector\": \"Tech\", \"Year\": 2018, \"BrandValue\": 5.165277}, {\"Brand\": \"AT&T\", \"Sector\": \"Telecoms\", \"Year\": 2018, \"BrandValue\": 4.916043}, {\"Brand\": \"Bank of America\", \"Sector\": \"Banking\", \"Year\": 2018, \"BrandValue\": 4.522301}, {\"Brand\": \"Chase\", \"Sector\": \"Banking\", \"Year\": 2018, \"BrandValue\": 4.589302}, {\"Brand\": \"Cisco\", \"Sector\": \"Tech\", \"Year\": 2018, \"BrandValue\": 4.288048}, {\"Brand\": \"Citi\", \"Sector\": \"Banking\", \"Year\": 2018, \"BrandValue\": 4.488311}, {\"Brand\": \"Coca-Cola\", \"Sector\": \"Non Alcoholic Drinks\", \"Year\": 2018, \"BrandValue\": 4.482559}, {\"Brand\": \"Costco\", \"Sector\": \"Retail\", \"Year\": 2018, \"BrandValue\": 4.085719}, {\"Brand\": \"CVS\", \"Sector\": \"Retail\", \"Year\": 2018, \"BrandValue\": 4.31393}, {\"Brand\": \"Dell\", \"Sector\": \"Tech\", \"Year\": 2018, \"BrandValue\": 4.213677}, {\"Brand\": \"Deloitte\", \"Sector\": \"Commercial Services\", \"Year\": 2018, \"BrandValue\": 4.318856}, {\"Brand\": \"Facebook\", \"Sector\": \"Media\", \"Year\": 2018, \"BrandValue\": 4.883809}, {\"Brand\": \"FedEx\", \"Sector\": \"Logistics\", \"Year\": 2018, \"BrandValue\": 4.259355}, {\"Brand\": \"Ford\", \"Sector\": \"Automobiles\", \"Year\": 2018, \"BrandValue\": 4.259403}, {\"Brand\": \"General Electric\", \"Sector\": \"Engineering & Construction\", \"Year\": 2018, \"BrandValue\": 4.505218}, {\"Brand\": \"Google\", \"Sector\": \"Tech\", \"Year\": 2018, \"BrandValue\": 5.082466}, {\"Brand\": \"Home Depot\", \"Sector\": \"Retail\", \"Year\": 2018, \"BrandValue\": 4.528248}, {\"Brand\": \"IBM\", \"Sector\": \"Tech\", \"Year\": 2018, \"BrandValue\": 4.511589}, {\"Brand\": \"Intel\", \"Sector\": \"Tech\", \"Year\": 2018, \"BrandValue\": 4.343586}, {\"Brand\": \"JP Morgan\", \"Sector\": \"Banking\", \"Year\": 2018, \"BrandValue\": 4.246769}, {\"Brand\": \"Lowe's\", \"Sector\": \"Retail\", \"Year\": 2018, \"BrandValue\": 4.204771}, {\"Brand\": \"Mastercard\", \"Sector\": \"Commercial Services\", \"Year\": 2018, \"BrandValue\": 4.102914}, {\"Brand\": \"Microsoft\", \"Sector\": \"Tech\", \"Year\": 2018, \"BrandValue\": 4.909358}, {\"Brand\": \"Netflix\", \"Sector\": \"Media\", \"Year\": 2018, \"BrandValue\": 4.013806}, {\"Brand\": \"Nike\", \"Sector\": \"Apparel\", \"Year\": 2018, \"BrandValue\": 4.447623}, {\"Brand\": \"Oracle\", \"Sector\": \"Tech\", \"Year\": 2018, \"BrandValue\": 4.47179}, {\"Brand\": \"PayPal\", \"Sector\": \"Commercial Services\", \"Year\": 2018, \"BrandValue\": 3.955062}, {\"Brand\": \"Pepsi\", \"Sector\": \"Non Alcoholic Drinks\", \"Year\": 2018, \"BrandValue\": 4.301789}, {\"Brand\": \"PWC\", \"Sector\": \"Commercial Services\", \"Year\": 2018, \"BrandValue\": 4.348052}, {\"Brand\": \"Starbucks\", \"Sector\": \"Restaurants\", \"Year\": 2018, \"BrandValue\": 4.510826}, {\"Brand\": \"Target\", \"Sector\": \"Retail\", \"Year\": 2018, \"BrandValue\": 4.136054}, {\"Brand\": \"Uber\", \"Sector\": \"Logistics\", \"Year\": 2018, \"BrandValue\": 4.220866}, {\"Brand\": \"UnitedHealthcare\", \"Sector\": \"Healthcare\", \"Year\": 2018, \"BrandValue\": 4.26984}, {\"Brand\": \"UPS\", \"Sector\": \"Logistics\", \"Year\": 2018, \"BrandValue\": 4.342482}, {\"Brand\": \"Verizon\", \"Sector\": \"Telecoms\", \"Year\": 2018, \"BrandValue\": 4.798139}, {\"Brand\": \"VISA\", \"Sector\": \"Commercial Services\", \"Year\": 2018, \"BrandValue\": 4.314941}, {\"Brand\": \"Walgreens\", \"Sector\": \"Retail\", \"Year\": 2018, \"BrandValue\": 4.191619}, {\"Brand\": \"Walmart\", \"Sector\": \"Retail\", \"Year\": 2018, \"BrandValue\": 4.788734}, {\"Brand\": \"Wells Fargo\", \"Sector\": \"Banking\", \"Year\": 2018, \"BrandValue\": 4.644419}, {\"Brand\": \"Xfinity\", \"Sector\": \"Telecoms\", \"Year\": 2018, \"BrandValue\": 4.41699}, {\"Brand\": \"YouTube\", \"Sector\": \"Media\", \"Year\": 2018, \"BrandValue\": 4.413082}, {\"Brand\": \"accenture\", \"Sector\": \"IT Services\", \"Year\": 2017, \"BrandValue\": 4.242144}, {\"Brand\": \"Amazon\", \"Sector\": \"Retail\", \"Year\": 2017, \"BrandValue\": 5.026925}, {\"Brand\": \"Apple\", \"Sector\": \"Tech\", \"Year\": 2017, \"BrandValue\": 5.029956}, {\"Brand\": \"AT&T\", \"Sector\": \"Telecoms\", \"Year\": 2017, \"BrandValue\": 4.939599}, {\"Brand\": \"Bank of America\", \"Sector\": \"Banking\", \"Year\": 2017, \"BrandValue\": 4.481055}, {\"Brand\": \"Chase\", \"Sector\": \"Banking\", \"Year\": 2017, \"BrandValue\": 4.528106}, {\"Brand\": \"Cisco\", \"Sector\": \"Tech\", \"Year\": 2017, \"BrandValue\": 4.316683}, {\"Brand\": \"Citi\", \"Sector\": \"Banking\", \"Year\": 2017, \"BrandValue\": 4.442072}, {\"Brand\": \"Coca-Cola\", \"Sector\": \"Non Alcoholic Drinks\", \"Year\": 2017, \"BrandValue\": 4.503586}, {\"Brand\": \"Costco\", \"Sector\": \"Retail\", \"Year\": 2017, \"BrandValue\": 4.128884}, {\"Brand\": \"CVS\", \"Sector\": \"Retail\", \"Year\": 2017, \"BrandValue\": 4.367095}, {\"Brand\": \"Dell\", \"Sector\": \"Tech\", \"Year\": 2017, \"BrandValue\": 4.259737}, {\"Brand\": \"Deloitte\", \"Sector\": \"Commercial Services\", \"Year\": 2017, \"BrandValue\": 4.224688}, {\"Brand\": \"Facebook\", \"Sector\": \"Media\", \"Year\": 2017, \"BrandValue\": 4.792378}, {\"Brand\": \"FedEx\", \"Sector\": \"Logistics\", \"Year\": 2017, \"BrandValue\": 4.232793}, {\"Brand\": \"Ford\", \"Sector\": \"Automobiles\", \"Year\": 2017, \"BrandValue\": 4.350868}, {\"Brand\": \"General Electric\", \"Sector\": \"Engineering & Construction\", \"Year\": 2017, \"BrandValue\": 4.547996}, {\"Brand\": \"Google\", \"Sector\": \"Tech\", \"Year\": 2017, \"BrandValue\": 5.039295}, {\"Brand\": \"Home Depot\", \"Sector\": \"Retail\", \"Year\": 2017, \"BrandValue\": 4.480237}, {\"Brand\": \"IBM\", \"Sector\": \"Tech\", \"Year\": 2017, \"BrandValue\": 4.557652}, {\"Brand\": \"Intel\", \"Sector\": \"Tech\", \"Year\": 2017, \"BrandValue\": 4.30897}, {\"Brand\": \"JP Morgan\", \"Sector\": \"Banking\", \"Year\": 2017, \"BrandValue\": 4.196176}, {\"Brand\": \"Lowe's\", \"Sector\": \"Retail\", \"Year\": 2017, \"BrandValue\": 4.1442}, {\"Brand\": \"Mastercard\", \"Sector\": \"Commercial Services\", \"Year\": 2017, \"BrandValue\": 4.088349}, {\"Brand\": \"Microsoft\", \"Sector\": \"Tech\", \"Year\": 2017, \"BrandValue\": 4.590686}, {\"Brand\": \"Netflix\", \"Sector\": \"Media\", \"Year\": 2017, \"BrandValue\": 4.882325}, {\"Brand\": \"Nike\", \"Sector\": \"Apparel\", \"Year\": 2017, \"BrandValue\": 4.501908}, {\"Brand\": \"Oracle\", \"Sector\": \"Tech\", \"Year\": 2017, \"BrandValue\": 4.412931}, {\"Brand\": \"PayPal\", \"Sector\": \"Commercial Services\", \"Year\": 2017, \"BrandValue\": 4.118033}, {\"Brand\": \"Pepsi\", \"Sector\": \"Non Alcoholic Drinks\", \"Year\": 2017, \"BrandValue\": 4.261952}, {\"Brand\": \"PWC\", \"Sector\": \"Commercial Services\", \"Year\": 2017, \"BrandValue\": 4.267406}, {\"Brand\": \"Starbucks\", \"Sector\": \"Restaurants\", \"Year\": 2017, \"BrandValue\": 4.408494}, {\"Brand\": \"Target\", \"Sector\": \"Retail\", \"Year\": 2017, \"BrandValue\": 4.230857}, {\"Brand\": \"Uber\", \"Sector\": \"Logistics\", \"Year\": 2017, \"BrandValue\": 4.164234}, {\"Brand\": \"UnitedHealthcare\", \"Sector\": \"Healthcare\", \"Year\": 2017, \"BrandValue\": 4.126424}, {\"Brand\": \"UPS\", \"Sector\": \"Logistics\", \"Year\": 2017, \"BrandValue\": 4.344942}, {\"Brand\": \"Verizon\", \"Sector\": \"Telecoms\", \"Year\": 2017, \"BrandValue\": 4.818721}, {\"Brand\": \"VISA\", \"Sector\": \"Commercial Services\", \"Year\": 2017, \"BrandValue\": 4.31513}, {\"Brand\": \"Walgreens\", \"Sector\": \"Retail\", \"Year\": 2017, \"BrandValue\": 4.203278}, {\"Brand\": \"Walmart\", \"Sector\": \"Retail\", \"Year\": 2017, \"BrandValue\": 4.793867}, {\"Brand\": \"Wells Fargo\", \"Sector\": \"Banking\", \"Year\": 2017, \"BrandValue\": 4.619281}, {\"Brand\": \"Xfinity\", \"Sector\": \"Telecoms\", \"Year\": 2017, \"BrandValue\": 4.41797}, {\"Brand\": \"YouTube\", \"Sector\": \"Media\", \"Year\": 2017, \"BrandValue\": 4.08361}, {\"Brand\": \"accenture\", \"Sector\": \"IT Services\", \"Year\": 2016, \"BrandValue\": 4.103359}, {\"Brand\": \"Amazon\", \"Sector\": \"Retail\", \"Year\": 2016, \"BrandValue\": 4.842871}, {\"Brand\": \"Apple\", \"Sector\": \"Tech\", \"Year\": 2016, \"BrandValue\": 5.164109}, {\"Brand\": \"AT&T\", \"Sector\": \"Telecoms\", \"Year\": 2016, \"BrandValue\": 4.777456}, {\"Brand\": \"Bank of America\", \"Sector\": \"Banking\", \"Year\": 2016, \"BrandValue\": 4.430204}, {\"Brand\": \"Chase\", \"Sector\": \"Banking\", \"Year\": 2016, \"BrandValue\": 4.485764}, {\"Brand\": \"Cisco\", \"Sector\": \"Tech\", \"Year\": 2016, \"BrandValue\": 4.282441}, {\"Brand\": \"Citi\", \"Sector\": \"Banking\", \"Year\": 2016, \"BrandValue\": 4.415491}, {\"Brand\": \"Coca-Cola\", \"Sector\": \"Non Alcoholic Drinks\", \"Year\": 2016, \"BrandValue\": 4.533772}, {\"Brand\": \"Costco\", \"Sector\": \"Retail\", \"Year\": 2016, \"BrandValue\": 4.073608}, {\"Brand\": \"CVS\", \"Sector\": \"Retail\", \"Year\": 2016, \"BrandValue\": 4.359532}, {\"Brand\": \"Dell\", \"Sector\": \"Tech\", \"Year\": 2016, \"BrandValue\": 4.164145}, {\"Brand\": \"Deloitte\", \"Sector\": \"Commercial Services\", \"Year\": 2016, \"BrandValue\": 4.208441}, {\"Brand\": \"Facebook\", \"Sector\": \"Media\", \"Year\": 2016, \"BrandValue\": 4.531504}, {\"Brand\": \"FedEx\", \"Sector\": \"Logistics\", \"Year\": 2016, \"BrandValue\": 4.116575}, {\"Brand\": \"Ford\", \"Sector\": \"Automobiles\", \"Year\": 2016, \"BrandValue\": 4.296029}, {\"Brand\": \"General Electric\", \"Sector\": \"Engineering & Construction\", \"Year\": 2016, \"BrandValue\": 4.465546}, {\"Brand\": \"Google\", \"Sector\": \"Tech\", \"Year\": 2016, \"BrandValue\": 4.945336}, {\"Brand\": \"Home Depot\", \"Sector\": \"Retail\", \"Year\": 2016, \"BrandValue\": 4.459362}, {\"Brand\": \"IBM\", \"Sector\": \"Tech\", \"Year\": 2016, \"BrandValue\": 4.502236}, {\"Brand\": \"Intel\", \"Sector\": \"Tech\", \"Year\": 2016, \"BrandValue\": 4.358791}, {\"Brand\": \"JP Morgan\", \"Sector\": \"Banking\", \"Year\": 2016, \"BrandValue\": 4.112136}, {\"Brand\": \"Lowe's\", \"Sector\": \"Retail\", \"Year\": 2016, \"BrandValue\": 4.104385}, {\"Brand\": \"Mastercard\", \"Sector\": \"Commercial Services\", \"Year\": 2016, \"BrandValue\": 3.922674}, {\"Brand\": \"Microsoft\", \"Sector\": \"Tech\", \"Year\": 2016, \"BrandValue\": 4.632832}, {\"Brand\": \"Netflix\", \"Sector\": \"Media\", \"Year\": 2016, \"BrandValue\": 4.827744}, {\"Brand\": \"Nike\", \"Sector\": \"Apparel\", \"Year\": 2016, \"BrandValue\": 4.447793}, {\"Brand\": \"Oracle\", \"Sector\": \"Tech\", \"Year\": 2016, \"BrandValue\": 4.345099}, {\"Brand\": \"PayPal\", \"Sector\": \"Commercial Services\", \"Year\": 2016, \"BrandValue\": 3.977358}, {\"Brand\": \"Pepsi\", \"Sector\": \"Non Alcoholic Drinks\", \"Year\": 2016, \"BrandValue\": 4.27754}, {\"Brand\": \"PWC\", \"Sector\": \"Commercial Services\", \"Year\": 2016, \"BrandValue\": 4.268789}, {\"Brand\": \"Starbucks\", \"Sector\": \"Restaurants\", \"Year\": 2016, \"BrandValue\": 4.365207}, {\"Brand\": \"Target\", \"Sector\": \"Retail\", \"Year\": 2016, \"BrandValue\": 4.18557}, {\"Brand\": \"Uber\", \"Sector\": \"Logistics\", \"Year\": 2016, \"BrandValue\": 4.0423}, {\"Brand\": \"UnitedHealthcare\", \"Sector\": \"Healthcare\", \"Year\": 2016, \"BrandValue\": 4.174176}, {\"Brand\": \"UPS\", \"Sector\": \"Logistics\", \"Year\": 2016, \"BrandValue\": 4.29148}, {\"Brand\": \"Verizon\", \"Sector\": \"Telecoms\", \"Year\": 2016, \"BrandValue\": 4.800139}, {\"Brand\": \"VISA\", \"Sector\": \"Commercial Services\", \"Year\": 2016, \"BrandValue\": 4.056638}, {\"Brand\": \"Walgreens\", \"Sector\": \"Retail\", \"Year\": 2016, \"BrandValue\": 4.155791}, {\"Brand\": \"Walmart\", \"Sector\": \"Retail\", \"Year\": 2016, \"BrandValue\": 4.729626}, {\"Brand\": \"Wells Fargo\", \"Sector\": \"Banking\", \"Year\": 2016, \"BrandValue\": 4.645127}, {\"Brand\": \"Xfinity\", \"Sector\": \"Telecoms\", \"Year\": 2016, \"BrandValue\": 4.383564}, {\"Brand\": \"YouTube\", \"Sector\": \"Media\", \"Year\": 2016, \"BrandValue\": 3.985606}]}}, {\"mode\": \"vega-lite\"});\n",
       "</script>"
      ],
      "text/plain": [
       "alt.Chart(...)"
      ]
     },
     "execution_count": 283,
     "metadata": {},
     "output_type": "execute_result"
    }
   ],
   "source": [
    "from IPython.display import display, HTML\n",
    "\n",
    "display(HTML(\"\"\"\n",
    "<style>\n",
    "form.vega-bindings {\n",
    "  position: absolute;\n",
    "  right: 0px;\n",
    "  top: 0px;\n",
    "}\n",
    "</style>\n",
    "\"\"\"))\n",
    "\n",
    "select_year = alt.selection_point(\n",
    "    name= 'select', fields=['Year'],\n",
    "    value= 2016,\n",
    "    bind= alt.binding_range(min=2016,max=2021,step=1)\n",
    ")\n",
    "alt.Chart(df).mark_circle().encode(\n",
    "    alt.X('BrandValue', scale=alt.Scale(domain=[3,7])),\n",
    "    alt.Y('Brand',sort=alt.EncodingSortField(\n",
    "        op='average', field='BrandValue', order='descending')),\n",
    ").properties(width=200,height=600).add_params(select_year).transform_filter(select_year)"
   ]
  }
 ],
 "metadata": {
  "kernelspec": {
   "display_name": "Python 3 (ipykernel)",
   "language": "python",
   "name": "python3"
  },
  "language_info": {
   "codemirror_mode": {
    "name": "ipython",
    "version": 3
   },
   "file_extension": ".py",
   "mimetype": "text/x-python",
   "name": "python",
   "nbconvert_exporter": "python",
   "pygments_lexer": "ipython3",
   "version": "3.11.9"
  }
 },
 "nbformat": 4,
 "nbformat_minor": 5
}
