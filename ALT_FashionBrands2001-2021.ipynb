{
 "cells": [
  {
   "cell_type": "markdown",
   "id": "b9999c82-c0b8-4338-8a93-4a2d194962a8",
   "metadata": {
    "editable": true,
    "slideshow": {
     "slide_type": ""
    },
    "tags": []
   },
   "source": [
    "# 2603646_DataVisualization"
   ]
  },
  {
   "cell_type": "markdown",
   "id": "3c2b29c5-29ad-4b29-b45f-4abea021d9cf",
   "metadata": {
    "editable": true,
    "slideshow": {
     "slide_type": ""
    },
    "tags": []
   },
   "source": [
    "---\n",
    "* Author:  [Yuttapong Mahasittiwat](mailto:khala1391@gmail.com)\n",
    "* Technologist | Data Modeler | Data Analyst\n",
    "* [YouTube](https://www.youtube.com/khala1391)\n",
    "* [LinkedIn](https://www.linkedin.com/in/yuttapong-m/)\n",
    "---"
   ]
  },
  {
   "cell_type": "markdown",
   "id": "f99c4c27-7de9-4b23-a0ff-d3b743f98d7b",
   "metadata": {},
   "source": [
    "Source: [kaggle](https://www.kaggle.com/datasets/jocelyndumlao/global-fashion-brands)"
   ]
  },
  {
   "cell_type": "code",
   "execution_count": 5,
   "id": "eb5ba1ee-807d-4cf7-833c-93d8152bd382",
   "metadata": {
    "colab": {
     "base_uri": "https://localhost:8080/"
    },
    "editable": true,
    "executionInfo": {
     "elapsed": 450,
     "status": "ok",
     "timestamp": 1722945524622,
     "user": {
      "displayName": "Buraj Patrakosol",
      "userId": "15915442625378365644"
     },
     "user_tz": -420
    },
    "id": "ob6u_X-NhT6T",
    "outputId": "8af79b74-2924-4afe-eb29-4cba74aaeb9d",
    "slideshow": {
     "slide_type": ""
    },
    "tags": []
   },
   "outputs": [
    {
     "name": "stdout",
     "output_type": "stream",
     "text": [
      "pandas version : 2.2.1\n",
      "numpy version : 1.26.4\n",
      "matplotlib version : 3.8.4\n",
      "seaborn version : 0.13.2\n",
      "altair version : 5.4.0\n"
     ]
    }
   ],
   "source": [
    "import pandas as pd\n",
    "import matplotlib as mpl\n",
    "import matplotlib.pyplot as plt\n",
    "import seaborn as sns\n",
    "import numpy as np\n",
    "import altair as alt\n",
    "print(\"pandas version :\",pd.__version__)\n",
    "print(\"numpy version :\",np.__version__)\n",
    "print(\"matplotlib version :\",mpl.__version__)\n",
    "print(\"seaborn version :\",sns.__version__)\n",
    "print(\"altair version :\",alt.__version__)"
   ]
  },
  {
   "cell_type": "code",
   "execution_count": 6,
   "id": "4eae02a1-0927-47d0-aa4d-c5c7a6714a02",
   "metadata": {},
   "outputs": [],
   "source": [
    "import pandas as pd\n",
    "import altair as alt"
   ]
  },
  {
   "cell_type": "code",
   "execution_count": 9,
   "id": "59c100fa-39ce-471b-9f06-04785bff867b",
   "metadata": {},
   "outputs": [
    {
     "name": "stdout",
     "output_type": "stream",
     "text": [
      "<class 'pandas.core.frame.DataFrame'>\n",
      "RangeIndex: 30 entries, 0 to 29\n",
      "Data columns (total 68 columns):\n",
      " #   Column              Non-Null Count  Dtype  \n",
      "---  ------              --------------  -----  \n",
      " 0   BrandName           30 non-null     object \n",
      " 1   BrandOriginCountry  30 non-null     object \n",
      " 2   BrandOriginRegion   30 non-null     object \n",
      " 3   BrandSector         30 non-null     object \n",
      " 4   BrandSubSector      30 non-null     object \n",
      " 5   Rank2001            16 non-null     float64\n",
      " 6   Rank2002            15 non-null     float64\n",
      " 7   Rank2003            15 non-null     float64\n",
      " 8   Rank2004            18 non-null     float64\n",
      " 9   Rank2005            18 non-null     float64\n",
      " 10  Rank2006            19 non-null     float64\n",
      " 11  Rank2007            17 non-null     float64\n",
      " 12  Rank2008            17 non-null     float64\n",
      " 13  Rank2009            21 non-null     float64\n",
      " 14  Rank2010            16 non-null     float64\n",
      " 15  Rank2011            15 non-null     float64\n",
      " 16  Rank2012            15 non-null     float64\n",
      " 17  Rank2013            15 non-null     float64\n",
      " 18  Rank2014            15 non-null     float64\n",
      " 19  Rank2015            14 non-null     float64\n",
      " 20  Rank2016            14 non-null     float64\n",
      " 21  Rank2017            13 non-null     float64\n",
      " 22  Rank2018            14 non-null     float64\n",
      " 23  Rank2019            14 non-null     float64\n",
      " 24  Rank2020            14 non-null     float64\n",
      " 25  Rank2021            15 non-null     float64\n",
      " 26  Equity2001          15 non-null     float64\n",
      " 27  Equity2002          15 non-null     float64\n",
      " 28  Equity2003          15 non-null     float64\n",
      " 29  Equity2004          18 non-null     float64\n",
      " 30  Equity2005          18 non-null     float64\n",
      " 31  Equity2006          19 non-null     float64\n",
      " 32  Equity2007          17 non-null     float64\n",
      " 33  Equity2008          17 non-null     float64\n",
      " 34  Equity2009          21 non-null     float64\n",
      " 35  Equity2010          16 non-null     float64\n",
      " 36  Equity2011          15 non-null     float64\n",
      " 37  Equity2012          15 non-null     float64\n",
      " 38  Equity2013          15 non-null     float64\n",
      " 39  Equity2014          15 non-null     float64\n",
      " 40  Equity2015          14 non-null     float64\n",
      " 41  Equity2016          14 non-null     float64\n",
      " 42  Equity2017          13 non-null     float64\n",
      " 43  Equity2018          14 non-null     float64\n",
      " 44  Equity2019          14 non-null     float64\n",
      " 45  Equity2020          14 non-null     float64\n",
      " 46  Equity2021          15 non-null     float64\n",
      " 47  GrowthRate2001      0 non-null      float64\n",
      " 48  GrowthRate2002      13 non-null     float64\n",
      " 49  GrowthRate2003      14 non-null     float64\n",
      " 50  GrowthRate2004      15 non-null     float64\n",
      " 51  GrowthRate2005      16 non-null     float64\n",
      " 52  GrowthRate2006      18 non-null     float64\n",
      " 53  GrowthRate2007      16 non-null     float64\n",
      " 54  GrowthRate2008      15 non-null     float64\n",
      " 55  GrowthRate2009      17 non-null     float64\n",
      " 56  GrowthRate2010      16 non-null     float64\n",
      " 57  GrowthRate2011      15 non-null     float64\n",
      " 58  GrowthRate2012      13 non-null     float64\n",
      " 59  GrowthRate2013      15 non-null     float64\n",
      " 60  GrowthRate2014      14 non-null     float64\n",
      " 61  GrowthRate2015      14 non-null     float64\n",
      " 62  GrowthRate2016      14 non-null     float64\n",
      " 63  GrowthRate2017      14 non-null     float64\n",
      " 64  GrowthRate2018      13 non-null     float64\n",
      " 65  GrowthRate2019      14 non-null     float64\n",
      " 66  GrowthRate2020      14 non-null     float64\n",
      " 67  GrowthRate2021      14 non-null     float64\n",
      "dtypes: float64(63), object(5)\n",
      "memory usage: 16.1+ KB\n"
     ]
    }
   ],
   "source": [
    "df = pd.read_csv('data/FashionBrands2001-2021.csv',\n",
    "                 # usecols=['Brand', 'Sector', '21BV', '20BV', '19BV', '18BV', '17BV', '16BV']\n",
    "                )\n",
    "df.info()"
   ]
  },
  {
   "cell_type": "code",
   "execution_count": null,
   "id": "928bcd64-ff6f-4e87-ab5e-9ad157f9dd17",
   "metadata": {},
   "outputs": [],
   "source": []
  }
 ],
 "metadata": {
  "kernelspec": {
   "display_name": "Python 3 (ipykernel)",
   "language": "python",
   "name": "python3"
  },
  "language_info": {
   "codemirror_mode": {
    "name": "ipython",
    "version": 3
   },
   "file_extension": ".py",
   "mimetype": "text/x-python",
   "name": "python",
   "nbconvert_exporter": "python",
   "pygments_lexer": "ipython3",
   "version": "3.11.9"
  }
 },
 "nbformat": 4,
 "nbformat_minor": 5
}
