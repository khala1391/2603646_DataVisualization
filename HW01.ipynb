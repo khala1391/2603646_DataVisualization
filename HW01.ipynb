{
 "cells": [
  {
   "cell_type": "markdown",
   "id": "3c03c5d2-6cc6-4818-b069-d9bd2af5a292",
   "metadata": {
    "editable": true,
    "slideshow": {
     "slide_type": ""
    },
    "tags": []
   },
   "source": [
    "# 2603646_DataVisualization"
   ]
  },
  {
   "cell_type": "markdown",
   "id": "f50060e0-d110-4db1-a7c8-1544b14a8bd5",
   "metadata": {
    "editable": true,
    "slideshow": {
     "slide_type": ""
    },
    "tags": []
   },
   "source": [
    "---\n",
    "* Author:  [Yuttapong Mahasittiwat]\n",
    "* StudentID: 6780330426\n",
    "---"
   ]
  },
  {
   "cell_type": "markdown",
   "id": "21bcdee6-f5fb-4a5f-8c86-337758265432",
   "metadata": {},
   "source": [
    "Source: [medium](https://medium.com/@sumeirwalia/covid-19-data-visualization-100f6be3f00e)"
   ]
  },
  {
   "cell_type": "code",
   "execution_count": 4,
   "id": "5eab1845-2425-4ccc-a401-055233677c2b",
   "metadata": {
    "colab": {
     "base_uri": "https://localhost:8080/"
    },
    "editable": true,
    "executionInfo": {
     "elapsed": 450,
     "status": "ok",
     "timestamp": 1722945524622,
     "user": {
      "displayName": "Buraj Patrakosol",
      "userId": "15915442625378365644"
     },
     "user_tz": -420
    },
    "id": "ob6u_X-NhT6T",
    "outputId": "8af79b74-2924-4afe-eb29-4cba74aaeb9d",
    "slideshow": {
     "slide_type": ""
    },
    "tags": []
   },
   "outputs": [
    {
     "name": "stdout",
     "output_type": "stream",
     "text": [
      "pandas version : 2.2.1\n",
      "numpy version : 1.26.4\n",
      "matplotlib version : 3.8.4\n",
      "seaborn version : 0.13.2\n",
      "altair version : 5.4.0\n"
     ]
    }
   ],
   "source": [
    "import pandas as pd\n",
    "import matplotlib as mpl\n",
    "import matplotlib.pyplot as plt\n",
    "import seaborn as sns\n",
    "import numpy as np\n",
    "import altair as alt\n",
    "print(\"pandas version :\",pd.__version__)\n",
    "print(\"numpy version :\",np.__version__)\n",
    "print(\"matplotlib version :\",mpl.__version__)\n",
    "print(\"seaborn version :\",sns.__version__)\n",
    "print(\"altair version :\",alt.__version__)"
   ]
  },
  {
   "cell_type": "code",
   "execution_count": 5,
   "id": "e2da3c14-7fe6-41d9-918f-95a05b71c211",
   "metadata": {},
   "outputs": [
    {
     "name": "stdout",
     "output_type": "stream",
     "text": [
      "<class 'pandas.core.frame.DataFrame'>\n",
      "RangeIndex: 161568 entries, 0 to 161567\n",
      "Data columns (total 5 columns):\n",
      " #   Column     Non-Null Count   Dtype \n",
      "---  ------     --------------   ----- \n",
      " 0   Date       161568 non-null  object\n",
      " 1   Country    161568 non-null  object\n",
      " 2   Confirmed  161568 non-null  int64 \n",
      " 3   Recovered  161568 non-null  int64 \n",
      " 4   Deaths     161568 non-null  int64 \n",
      "dtypes: int64(3), object(2)\n",
      "memory usage: 6.2+ MB\n"
     ]
    }
   ],
   "source": [
    "dataset_url = 'https://raw.githubusercontent.com/datasets/covid-19/master/data/countries-aggregated.csv'\n",
    "df=pd.read_csv(dataset_url)\n",
    "df.info()"
   ]
  },
  {
   "cell_type": "code",
   "execution_count": 6,
   "id": "799c92d8-47fd-49e6-9166-b4a86559a275",
   "metadata": {},
   "outputs": [
    {
     "data": {
      "text/plain": [
       "198"
      ]
     },
     "execution_count": 6,
     "metadata": {},
     "output_type": "execute_result"
    }
   ],
   "source": [
    "df['Country'].nunique()"
   ]
  },
  {
   "cell_type": "code",
   "execution_count": 7,
   "id": "0db9624e-927b-4ecf-84f7-d85178fbfe66",
   "metadata": {},
   "outputs": [
    {
     "data": {
      "text/html": [
       "<div>\n",
       "<style scoped>\n",
       "    .dataframe tbody tr th:only-of-type {\n",
       "        vertical-align: middle;\n",
       "    }\n",
       "\n",
       "    .dataframe tbody tr th {\n",
       "        vertical-align: top;\n",
       "    }\n",
       "\n",
       "    .dataframe thead th {\n",
       "        text-align: right;\n",
       "    }\n",
       "</style>\n",
       "<table border=\"1\" class=\"dataframe\">\n",
       "  <thead>\n",
       "    <tr style=\"text-align: right;\">\n",
       "      <th></th>\n",
       "      <th>Date</th>\n",
       "      <th>Country</th>\n",
       "      <th>Confirmed</th>\n",
       "      <th>Recovered</th>\n",
       "      <th>Deaths</th>\n",
       "      <th>InfectionRate</th>\n",
       "    </tr>\n",
       "  </thead>\n",
       "  <tbody>\n",
       "    <tr>\n",
       "      <th>0</th>\n",
       "      <td>2020-01-22</td>\n",
       "      <td>Afghanistan</td>\n",
       "      <td>0</td>\n",
       "      <td>0</td>\n",
       "      <td>0</td>\n",
       "      <td>NaN</td>\n",
       "    </tr>\n",
       "    <tr>\n",
       "      <th>1</th>\n",
       "      <td>2020-01-23</td>\n",
       "      <td>Afghanistan</td>\n",
       "      <td>0</td>\n",
       "      <td>0</td>\n",
       "      <td>0</td>\n",
       "      <td>0.0</td>\n",
       "    </tr>\n",
       "    <tr>\n",
       "      <th>2</th>\n",
       "      <td>2020-01-24</td>\n",
       "      <td>Afghanistan</td>\n",
       "      <td>0</td>\n",
       "      <td>0</td>\n",
       "      <td>0</td>\n",
       "      <td>0.0</td>\n",
       "    </tr>\n",
       "    <tr>\n",
       "      <th>3</th>\n",
       "      <td>2020-01-25</td>\n",
       "      <td>Afghanistan</td>\n",
       "      <td>0</td>\n",
       "      <td>0</td>\n",
       "      <td>0</td>\n",
       "      <td>0.0</td>\n",
       "    </tr>\n",
       "    <tr>\n",
       "      <th>4</th>\n",
       "      <td>2020-01-26</td>\n",
       "      <td>Afghanistan</td>\n",
       "      <td>0</td>\n",
       "      <td>0</td>\n",
       "      <td>0</td>\n",
       "      <td>0.0</td>\n",
       "    </tr>\n",
       "    <tr>\n",
       "      <th>...</th>\n",
       "      <td>...</td>\n",
       "      <td>...</td>\n",
       "      <td>...</td>\n",
       "      <td>...</td>\n",
       "      <td>...</td>\n",
       "      <td>...</td>\n",
       "    </tr>\n",
       "    <tr>\n",
       "      <th>161563</th>\n",
       "      <td>2022-04-12</td>\n",
       "      <td>Zimbabwe</td>\n",
       "      <td>247094</td>\n",
       "      <td>0</td>\n",
       "      <td>5460</td>\n",
       "      <td>84.0</td>\n",
       "    </tr>\n",
       "    <tr>\n",
       "      <th>161564</th>\n",
       "      <td>2022-04-13</td>\n",
       "      <td>Zimbabwe</td>\n",
       "      <td>247160</td>\n",
       "      <td>0</td>\n",
       "      <td>5460</td>\n",
       "      <td>66.0</td>\n",
       "    </tr>\n",
       "    <tr>\n",
       "      <th>161565</th>\n",
       "      <td>2022-04-14</td>\n",
       "      <td>Zimbabwe</td>\n",
       "      <td>247208</td>\n",
       "      <td>0</td>\n",
       "      <td>5462</td>\n",
       "      <td>48.0</td>\n",
       "    </tr>\n",
       "    <tr>\n",
       "      <th>161566</th>\n",
       "      <td>2022-04-15</td>\n",
       "      <td>Zimbabwe</td>\n",
       "      <td>247237</td>\n",
       "      <td>0</td>\n",
       "      <td>5462</td>\n",
       "      <td>29.0</td>\n",
       "    </tr>\n",
       "    <tr>\n",
       "      <th>161567</th>\n",
       "      <td>2022-04-16</td>\n",
       "      <td>Zimbabwe</td>\n",
       "      <td>247237</td>\n",
       "      <td>0</td>\n",
       "      <td>5462</td>\n",
       "      <td>0.0</td>\n",
       "    </tr>\n",
       "  </tbody>\n",
       "</table>\n",
       "<p>161568 rows × 6 columns</p>\n",
       "</div>"
      ],
      "text/plain": [
       "              Date      Country  Confirmed  Recovered  Deaths  InfectionRate\n",
       "0       2020-01-22  Afghanistan          0          0       0            NaN\n",
       "1       2020-01-23  Afghanistan          0          0       0            0.0\n",
       "2       2020-01-24  Afghanistan          0          0       0            0.0\n",
       "3       2020-01-25  Afghanistan          0          0       0            0.0\n",
       "4       2020-01-26  Afghanistan          0          0       0            0.0\n",
       "...            ...          ...        ...        ...     ...            ...\n",
       "161563  2022-04-12     Zimbabwe     247094          0    5460           84.0\n",
       "161564  2022-04-13     Zimbabwe     247160          0    5460           66.0\n",
       "161565  2022-04-14     Zimbabwe     247208          0    5462           48.0\n",
       "161566  2022-04-15     Zimbabwe     247237          0    5462           29.0\n",
       "161567  2022-04-16     Zimbabwe     247237          0    5462            0.0\n",
       "\n",
       "[161568 rows x 6 columns]"
      ]
     },
     "execution_count": 7,
     "metadata": {},
     "output_type": "execute_result"
    }
   ],
   "source": [
    "df = df.sort_values(by=['Country', 'Date'])\n",
    "df['InfectionRate'] = df.groupby('Country')['Confirmed'].diff()\n",
    "df"
   ]
  },
  {
   "cell_type": "code",
   "execution_count": 8,
   "id": "6941485a-41bd-4156-91d4-020e91158cc2",
   "metadata": {},
   "outputs": [],
   "source": [
    "df_top = df.groupby(by='Country').agg({'InfectionRate': 'max'})\\\n",
    "                            .nlargest(20,columns='InfectionRate')\\\n",
    "                            .sort_values(by='InfectionRate',ascending= False)\\\n",
    "                            .reset_index()"
   ]
  },
  {
   "cell_type": "code",
   "execution_count": 9,
   "id": "68fce8fc-9399-48a1-ac8d-a4676c776fcf",
   "metadata": {
    "scrolled": true
   },
   "outputs": [
    {
     "data": {
      "text/html": [
       "<div>\n",
       "<style scoped>\n",
       "    .dataframe tbody tr th:only-of-type {\n",
       "        vertical-align: middle;\n",
       "    }\n",
       "\n",
       "    .dataframe tbody tr th {\n",
       "        vertical-align: top;\n",
       "    }\n",
       "\n",
       "    .dataframe thead th {\n",
       "        text-align: right;\n",
       "    }\n",
       "</style>\n",
       "<table border=\"1\" class=\"dataframe\">\n",
       "  <thead>\n",
       "    <tr style=\"text-align: right;\">\n",
       "      <th></th>\n",
       "      <th>Country</th>\n",
       "      <th>InfectionRate</th>\n",
       "    </tr>\n",
       "  </thead>\n",
       "  <tbody>\n",
       "    <tr>\n",
       "      <th>0</th>\n",
       "      <td>US</td>\n",
       "      <td>1383795.0</td>\n",
       "    </tr>\n",
       "    <tr>\n",
       "      <th>1</th>\n",
       "      <td>United Kingdom</td>\n",
       "      <td>848169.0</td>\n",
       "    </tr>\n",
       "    <tr>\n",
       "      <th>2</th>\n",
       "      <td>Turkey</td>\n",
       "      <td>823225.0</td>\n",
       "    </tr>\n",
       "    <tr>\n",
       "      <th>3</th>\n",
       "      <td>Korea, South</td>\n",
       "      <td>621317.0</td>\n",
       "    </tr>\n",
       "    <tr>\n",
       "      <th>4</th>\n",
       "      <td>Germany</td>\n",
       "      <td>527487.0</td>\n",
       "    </tr>\n",
       "    <tr>\n",
       "      <th>5</th>\n",
       "      <td>France</td>\n",
       "      <td>503349.0</td>\n",
       "    </tr>\n",
       "    <tr>\n",
       "      <th>6</th>\n",
       "      <td>Vietnam</td>\n",
       "      <td>454212.0</td>\n",
       "    </tr>\n",
       "    <tr>\n",
       "      <th>7</th>\n",
       "      <td>India</td>\n",
       "      <td>414188.0</td>\n",
       "    </tr>\n",
       "    <tr>\n",
       "      <th>8</th>\n",
       "      <td>Netherlands</td>\n",
       "      <td>380498.0</td>\n",
       "    </tr>\n",
       "    <tr>\n",
       "      <th>9</th>\n",
       "      <td>Spain</td>\n",
       "      <td>372766.0</td>\n",
       "    </tr>\n",
       "    <tr>\n",
       "      <th>10</th>\n",
       "      <td>Brazil</td>\n",
       "      <td>287149.0</td>\n",
       "    </tr>\n",
       "    <tr>\n",
       "      <th>11</th>\n",
       "      <td>Israel</td>\n",
       "      <td>243295.0</td>\n",
       "    </tr>\n",
       "    <tr>\n",
       "      <th>12</th>\n",
       "      <td>Italy</td>\n",
       "      <td>228123.0</td>\n",
       "    </tr>\n",
       "    <tr>\n",
       "      <th>13</th>\n",
       "      <td>Russia</td>\n",
       "      <td>202211.0</td>\n",
       "    </tr>\n",
       "    <tr>\n",
       "      <th>14</th>\n",
       "      <td>Australia</td>\n",
       "      <td>175271.0</td>\n",
       "    </tr>\n",
       "    <tr>\n",
       "      <th>15</th>\n",
       "      <td>Argentina</td>\n",
       "      <td>139853.0</td>\n",
       "    </tr>\n",
       "    <tr>\n",
       "      <th>16</th>\n",
       "      <td>Sweden</td>\n",
       "      <td>138985.0</td>\n",
       "    </tr>\n",
       "    <tr>\n",
       "      <th>17</th>\n",
       "      <td>Belgium</td>\n",
       "      <td>133480.0</td>\n",
       "    </tr>\n",
       "    <tr>\n",
       "      <th>18</th>\n",
       "      <td>Mexico</td>\n",
       "      <td>109895.0</td>\n",
       "    </tr>\n",
       "    <tr>\n",
       "      <th>19</th>\n",
       "      <td>Japan</td>\n",
       "      <td>104345.0</td>\n",
       "    </tr>\n",
       "  </tbody>\n",
       "</table>\n",
       "</div>"
      ],
      "text/plain": [
       "           Country  InfectionRate\n",
       "0               US      1383795.0\n",
       "1   United Kingdom       848169.0\n",
       "2           Turkey       823225.0\n",
       "3     Korea, South       621317.0\n",
       "4          Germany       527487.0\n",
       "5           France       503349.0\n",
       "6          Vietnam       454212.0\n",
       "7            India       414188.0\n",
       "8      Netherlands       380498.0\n",
       "9            Spain       372766.0\n",
       "10          Brazil       287149.0\n",
       "11          Israel       243295.0\n",
       "12           Italy       228123.0\n",
       "13          Russia       202211.0\n",
       "14       Australia       175271.0\n",
       "15       Argentina       139853.0\n",
       "16          Sweden       138985.0\n",
       "17         Belgium       133480.0\n",
       "18          Mexico       109895.0\n",
       "19           Japan       104345.0"
      ]
     },
     "execution_count": 9,
     "metadata": {},
     "output_type": "execute_result"
    }
   ],
   "source": [
    "df_top"
   ]
  },
  {
   "cell_type": "code",
   "execution_count": 15,
   "id": "57e0a6b8-1be1-4b1c-b617-e75f8f825060",
   "metadata": {},
   "outputs": [
    {
     "data": {
      "image/png": "[encoded data removed]",
      "text/plain": [
       "<Figure size 800x600 with 1 Axes>"
      ]
     },
     "metadata": {},
     "output_type": "display_data"
    }
   ],
   "source": [
    "from matplotlib.ticker import FuncFormatter\n",
    "\n",
    "plt.figure(figsize=(8,6))\n",
    "\n",
    "ax = sns.barplot(x='InfectionRate',y='Country', data=df_top)\n",
    "\n",
    "for index, value in enumerate(df_top['InfectionRate']):\n",
    "    ax.text(value, index, f'{value:,.0f}', va='center', ha='left', fontsize=10)\n",
    "    \n",
    "ax.set_title('Top 20 Countries with Maximum Infection Rate')\n",
    "ax.set_xlabel('Infection Rate')\n",
    "ax.xaxis.set_major_formatter(FuncFormatter(lambda x, _: f'{x/1000:.0f}K'))\n",
    "\n",
    "max_value = df_top['InfectionRate'].max()\n",
    "ax.set_xlim(0, max_value * 1.2)\n",
    "\n",
    "plt.savefig('../figure/Top20Country.png',bbox_inches='tight');\n",
    "plt.show();"
   ]
  },
  {
   "cell_type": "markdown",
   "id": "75100e89-4e38-4309-83f4-4c48e6483815",
   "metadata": {},
   "source": [
    "## Alternative : use Altair"
   ]
  },
  {
   "cell_type": "code",
   "execution_count": 40,
   "id": "305105fb-a6ac-4ccc-9048-5d6d4a55e0c4",
   "metadata": {},
   "outputs": [
    {
     "data": {
      "text/html": [
       "\n",
       "<style>\n",
       "  #altair-viz-7d77274cdc8248449b402628c933fc67.vega-embed {\n",
       "    width: 100%;\n",
       "    display: flex;\n",
       "  }\n",
       "\n",
       "  #altair-viz-7d77274cdc8248449b402628c933fc67.vega-embed details,\n",
       "  #altair-viz-7d77274cdc8248449b402628c933fc67.vega-embed details summary {\n",
       "    position: relative;\n",
       "  }\n",
       "</style>\n",
       "<div id=\"altair-viz-7d77274cdc8248449b402628c933fc67\"></div>\n",
       "<script type=\"text/javascript\">\n",
       "  var VEGA_DEBUG = (typeof VEGA_DEBUG == \"undefined\") ? {} : VEGA_DEBUG;\n",
       "  (function(spec, embedOpt){\n",
       "    let outputDiv = document.currentScript.previousElementSibling;\n",
       "    if (outputDiv.id !== \"altair-viz-7d77274cdc8248449b402628c933fc67\") {\n",
       "      outputDiv = document.getElementById(\"altair-viz-7d77274cdc8248449b402628c933fc67\");\n",
       "    }\n",
       "    const paths = {\n",
       "      \"vega\": \"https://cdn.jsdelivr.net/npm/vega@5?noext\",\n",
       "      \"vega-lib\": \"https://cdn.jsdelivr.net/npm/vega-lib?noext\",\n",
       "      \"vega-lite\": \"https://cdn.jsdelivr.net/npm/vega-lite@5.20.1?noext\",\n",
       "      \"vega-embed\": \"https://cdn.jsdelivr.net/npm/vega-embed@6?noext\",\n",
       "    };\n",
       "\n",
       "    function maybeLoadScript(lib, version) {\n",
       "      var key = `${lib.replace(\"-\", \"\")}_version`;\n",
       "      return (VEGA_DEBUG[key] == version) ?\n",
       "        Promise.resolve(paths[lib]) :\n",
       "        new Promise(function(resolve, reject) {\n",
       "          var s = document.createElement('script');\n",
       "          document.getElementsByTagName(\"head\")[0].appendChild(s);\n",
       "          s.async = true;\n",
       "          s.onload = () => {\n",
       "            VEGA_DEBUG[key] = version;\n",
       "            return resolve(paths[lib]);\n",
       "          };\n",
       "          s.onerror = () => reject(`Error loading script: ${paths[lib]}`);\n",
       "          s.src = paths[lib];\n",
       "        });\n",
       "    }\n",
       "\n",
       "    function showError(err) {\n",
       "      outputDiv.innerHTML = `<div class=\"error\" style=\"color:red;\">${err}</div>`;\n",
       "      throw err;\n",
       "    }\n",
       "\n",
       "    function displayChart(vegaEmbed) {\n",
       "      vegaEmbed(outputDiv, spec, embedOpt)\n",
       "        .catch(err => showError(`Javascript Error: ${err.message}<br>This usually means there's a typo in your chart specification. See the javascript console for the full traceback.`));\n",
       "    }\n",
       "\n",
       "    if(typeof define === \"function\" && define.amd) {\n",
       "      requirejs.config({paths});\n",
       "      require([\"vega-embed\"], displayChart, err => showError(`Error loading script: ${err.message}`));\n",
       "    } else {\n",
       "      maybeLoadScript(\"vega\", \"5\")\n",
       "        .then(() => maybeLoadScript(\"vega-lite\", \"5.20.1\"))\n",
       "        .then(() => maybeLoadScript(\"vega-embed\", \"6\"))\n",
       "        .catch(showError)\n",
       "        .then(() => displayChart(vegaEmbed));\n",
       "    }\n",
       "  })({\"config\": {\"view\": {\"continuousWidth\": 300, \"continuousHeight\": 300}}, \"data\": {\"name\": \"data-554274b64c08ee6f098c97aa5872f948\"}, \"mark\": {\"type\": \"bar\"}, \"encoding\": {\"tooltip\": {\"field\": \"InfectionRate\", \"type\": \"quantitative\"}, \"x\": {\"field\": \"InfectionRate\", \"type\": \"quantitative\"}, \"y\": {\"field\": \"Country\", \"sort\": {\"field\": \"InfectionRate\", \"order\": \"descending\"}, \"type\": \"nominal\"}}, \"$schema\": \"https://vega.github.io/schema/vega-lite/v5.20.1.json\", \"datasets\": {\"data-554274b64c08ee6f098c97aa5872f948\": [{\"Country\": \"US\", \"InfectionRate\": 1383795.0}, {\"Country\": \"United Kingdom\", \"InfectionRate\": 848169.0}, {\"Country\": \"Turkey\", \"InfectionRate\": 823225.0}, {\"Country\": \"Korea, South\", \"InfectionRate\": 621317.0}, {\"Country\": \"Germany\", \"InfectionRate\": 527487.0}, {\"Country\": \"France\", \"InfectionRate\": 503349.0}, {\"Country\": \"Vietnam\", \"InfectionRate\": 454212.0}, {\"Country\": \"India\", \"InfectionRate\": 414188.0}, {\"Country\": \"Netherlands\", \"InfectionRate\": 380498.0}, {\"Country\": \"Spain\", \"InfectionRate\": 372766.0}, {\"Country\": \"Brazil\", \"InfectionRate\": 287149.0}, {\"Country\": \"Israel\", \"InfectionRate\": 243295.0}, {\"Country\": \"Italy\", \"InfectionRate\": 228123.0}, {\"Country\": \"Russia\", \"InfectionRate\": 202211.0}, {\"Country\": \"Australia\", \"InfectionRate\": 175271.0}, {\"Country\": \"Argentina\", \"InfectionRate\": 139853.0}, {\"Country\": \"Sweden\", \"InfectionRate\": 138985.0}, {\"Country\": \"Belgium\", \"InfectionRate\": 133480.0}, {\"Country\": \"Mexico\", \"InfectionRate\": 109895.0}, {\"Country\": \"Japan\", \"InfectionRate\": 104345.0}]}}, {\"mode\": \"vega-lite\"});\n",
       "</script>"
      ],
      "text/plain": [
       "alt.Chart(...)"
      ]
     },
     "execution_count": 40,
     "metadata": {},
     "output_type": "execute_result"
    }
   ],
   "source": [
    "chart = alt.Chart(df_top).mark_bar().encode(\n",
    "    alt.X('InfectionRate'),\n",
    "    alt.Y('Country',sort=alt.SortField('InfectionRate', order='descending')),\n",
    "    alt.Tooltip('InfectionRate:Q')\n",
    ")\n",
    "chart"
   ]
  }
 ],
 "metadata": {
  "kernelspec": {
   "display_name": "Python 3 (ipykernel)",
   "language": "python",
   "name": "python3"
  },
  "language_info": {
   "codemirror_mode": {
    "name": "ipython",
    "version": 3
   },
   "file_extension": ".py",
   "mimetype": "text/x-python",
   "name": "python",
   "nbconvert_exporter": "python",
   "pygments_lexer": "ipython3",
   "version": "3.11.9"
  }
 },
 "nbformat": 4,
 "nbformat_minor": 5
}
